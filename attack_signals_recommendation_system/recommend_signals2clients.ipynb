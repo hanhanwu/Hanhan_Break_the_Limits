{
 "cells": [
  {
   "cell_type": "markdown",
   "metadata": {},
   "source": [
    "# Recommend Signals to Clients\n",
    "\n",
    "* Recommend signals to a target client based on clients' similarities, signal rating/frequency"
   ]
  },
  {
   "cell_type": "code",
   "execution_count": 200,
   "metadata": {},
   "outputs": [],
   "source": [
    "import pandas as pd\n",
    "from scipy import stats\n",
    "import numpy as np\n",
    "import operator"
   ]
  },
  {
   "cell_type": "code",
   "execution_count": 2,
   "metadata": {},
   "outputs": [],
   "source": [
    "client_lst = ['Lego', 'Microsoft', 'Google', 'Facebook', 'Amazon', 'Bank_of_America', 'BMO']"
   ]
  },
  {
   "cell_type": "code",
   "execution_count": 3,
   "metadata": {},
   "outputs": [
    {
     "name": "stdout",
     "output_type": "stream",
     "text": [
      "Lego (153108, 41)\n",
      "Microsoft (179479, 41)\n",
      "Google (142497, 41)\n",
      "Facebook (134890, 41)\n",
      "Amazon (161766, 41)\n",
      "Bank_of_America (223232, 41)\n",
      "BMO (102513, 41)\n",
      "7\n"
     ]
    }
   ],
   "source": [
    "client_df_lst = []\n",
    "\n",
    "for client in client_lst:\n",
    "    client_df = pd.read_csv('feature_rule_'+client+'.csv')\n",
    "    print(client, client_df.shape)\n",
    "    client_df_lst.append(client_df)\n",
    "    \n",
    "print(len(client_df_lst))"
   ]
  },
  {
   "cell_type": "code",
   "execution_count": 6,
   "metadata": {},
   "outputs": [
    {
     "data": {
      "text/plain": [
       "Index(['duration', 'protocol_type', 'service', 'flag', 'src_bytes',\n",
       "       'dst_bytes', 'land', 'wrong_fragment', 'urgent', 'hot',\n",
       "       'num_failed_logins', 'logged_in', 'num_compromised', 'root_shell',\n",
       "       'su_attempted', 'num_root', 'num_file_creations', 'num_shells',\n",
       "       'num_access_files', 'is_guest_login', 'count', 'srv_count',\n",
       "       'serror_rate', 'srv_serror_rate', 'rerror_rate', 'srv_rerror_rate',\n",
       "       'same_srv_rate', 'diff_srv_rate', 'srv_diff_host_rate',\n",
       "       'dst_host_count', 'dst_host_srv_count', 'dst_host_same_srv_rate',\n",
       "       'dst_host_diff_srv_rate', 'dst_host_same_src_port_rate',\n",
       "       'dst_host_srv_diff_host_rate', 'dst_host_serror_rate',\n",
       "       'dst_host_srv_serror_rate', 'dst_host_rerror_rate',\n",
       "       'dst_host_srv_rerror_rate', 'src_dst_bytes_diff', 'triggered_rule'],\n",
       "      dtype='object')"
      ]
     },
     "execution_count": 6,
     "metadata": {},
     "output_type": "execute_result"
    }
   ],
   "source": [
    "client_df_lst[0].columns"
   ]
  },
  {
   "cell_type": "code",
   "execution_count": 63,
   "metadata": {},
   "outputs": [
    {
     "name": "stdout",
     "output_type": "stream",
     "text": [
      "Client: Lego\n"
     ]
    },
    {
     "data": {
      "text/html": [
       "<div>\n",
       "<style scoped>\n",
       "    .dataframe tbody tr th:only-of-type {\n",
       "        vertical-align: middle;\n",
       "    }\n",
       "\n",
       "    .dataframe tbody tr th {\n",
       "        vertical-align: top;\n",
       "    }\n",
       "\n",
       "    .dataframe thead th {\n",
       "        text-align: right;\n",
       "    }\n",
       "</style>\n",
       "<table border=\"1\" class=\"dataframe\">\n",
       "  <thead>\n",
       "    <tr style=\"text-align: right;\">\n",
       "      <th></th>\n",
       "      <th>dst_host_srv_diff_host_rate</th>\n",
       "      <th>dst_host_serror_rate</th>\n",
       "      <th>dst_host_srv_serror_rate</th>\n",
       "      <th>dst_host_rerror_rate</th>\n",
       "      <th>dst_host_srv_rerror_rate</th>\n",
       "      <th>src_dst_bytes_diff</th>\n",
       "      <th>triggered_rule</th>\n",
       "    </tr>\n",
       "  </thead>\n",
       "  <tbody>\n",
       "    <tr>\n",
       "      <th>0</th>\n",
       "      <td>0.00</td>\n",
       "      <td>1.0</td>\n",
       "      <td>1.0</td>\n",
       "      <td>0.0</td>\n",
       "      <td>0.0</td>\n",
       "      <td>0</td>\n",
       "      <td>4</td>\n",
       "    </tr>\n",
       "    <tr>\n",
       "      <th>1</th>\n",
       "      <td>0.01</td>\n",
       "      <td>0.0</td>\n",
       "      <td>0.0</td>\n",
       "      <td>0.0</td>\n",
       "      <td>0.0</td>\n",
       "      <td>2917</td>\n",
       "      <td>0</td>\n",
       "    </tr>\n",
       "    <tr>\n",
       "      <th>2</th>\n",
       "      <td>0.01</td>\n",
       "      <td>0.0</td>\n",
       "      <td>0.0</td>\n",
       "      <td>0.0</td>\n",
       "      <td>0.0</td>\n",
       "      <td>2569</td>\n",
       "      <td>0</td>\n",
       "    </tr>\n",
       "    <tr>\n",
       "      <th>3</th>\n",
       "      <td>0.01</td>\n",
       "      <td>0.0</td>\n",
       "      <td>0.0</td>\n",
       "      <td>0.0</td>\n",
       "      <td>0.0</td>\n",
       "      <td>1538</td>\n",
       "      <td>0</td>\n",
       "    </tr>\n",
       "    <tr>\n",
       "      <th>4</th>\n",
       "      <td>0.00</td>\n",
       "      <td>1.0</td>\n",
       "      <td>1.0</td>\n",
       "      <td>0.0</td>\n",
       "      <td>0.0</td>\n",
       "      <td>0</td>\n",
       "      <td>4</td>\n",
       "    </tr>\n",
       "  </tbody>\n",
       "</table>\n",
       "</div>"
      ],
      "text/plain": [
       "   dst_host_srv_diff_host_rate  dst_host_serror_rate  \\\n",
       "0                         0.00                   1.0   \n",
       "1                         0.01                   0.0   \n",
       "2                         0.01                   0.0   \n",
       "3                         0.01                   0.0   \n",
       "4                         0.00                   1.0   \n",
       "\n",
       "   dst_host_srv_serror_rate  dst_host_rerror_rate  dst_host_srv_rerror_rate  \\\n",
       "0                       1.0                   0.0                       0.0   \n",
       "1                       0.0                   0.0                       0.0   \n",
       "2                       0.0                   0.0                       0.0   \n",
       "3                       0.0                   0.0                       0.0   \n",
       "4                       1.0                   0.0                       0.0   \n",
       "\n",
       "   src_dst_bytes_diff  triggered_rule  \n",
       "0                   0               4  \n",
       "1                2917               0  \n",
       "2                2569               0  \n",
       "3                1538               0  \n",
       "4                   0               4  "
      ]
     },
     "execution_count": 63,
     "metadata": {},
     "output_type": "execute_result"
    }
   ],
   "source": [
    "print('Client:', client_lst[0])\n",
    "client_df_lst[0].iloc[:, -7:].head()"
   ]
  },
  {
   "cell_type": "code",
   "execution_count": 27,
   "metadata": {},
   "outputs": [],
   "source": [
    "# for client similarity score, just use t-test to compare each column and aggregate the results\n",
    "def compare_col(col1, col2):\n",
    "    \"\"\"\n",
    "    Compare the similarity between 2 columns, higher the p-value is, more similar the 2 columns are.\n",
    "    \"\"\"\n",
    "    pvalue = stats.ttest_ind(col1, col2)[1]\n",
    "    return pvalue"
   ]
  },
  {
   "cell_type": "code",
   "execution_count": 31,
   "metadata": {},
   "outputs": [],
   "source": [
    "feature_lst = client_df_lst[0].columns[0:-1]\n",
    "client_similarity_dct = {}\n",
    "\n",
    "for i in range(len(client_lst)-1):\n",
    "    clienti = client_df_lst[i]\n",
    "    for j in range(i+1, len(client_lst)):\n",
    "        clientj = client_df_lst[j]\n",
    "        similarity_score = 0.0\n",
    "        for col in feature_lst:\n",
    "            similarity_score += compare_col(clienti[col], clientj[col])\n",
    "        similarity_score /= len(feature_lst)\n",
    "        client_similarity_dct['_'.join([client_lst[i], client_lst[j]])] = similarity_score\n",
    "        client_similarity_dct['_'.join([client_lst[j], client_lst[i]])] = similarity_score"
   ]
  },
  {
   "cell_type": "code",
   "execution_count": 207,
   "metadata": {},
   "outputs": [
    {
     "data": {
      "text/plain": [
       "[('Amazon_BMO', 0.7365484950772161),\n",
       " ('Amazon_Bank_of_America', 0.8092270979910955),\n",
       " ('Amazon_Facebook', 0.881454452090848),\n",
       " ('Amazon_Google', 0.864084258346419),\n",
       " ('Amazon_Lego', 0.8936735879736102),\n",
       " ('Amazon_Microsoft', 0.8652825836943148),\n",
       " ('BMO_Amazon', 0.7365484950772161),\n",
       " ('BMO_Bank_of_America', 0.6514256358722161),\n",
       " ('BMO_Facebook', 0.7663877469709095),\n",
       " ('BMO_Google', 0.7613793177815622),\n",
       " ('BMO_Lego', 0.735840629820065),\n",
       " ('BMO_Microsoft', 0.7147037057136554),\n",
       " ('Bank_of_America_Amazon', 0.8092270979910955),\n",
       " ('Bank_of_America_BMO', 0.6514256358722161),\n",
       " ('Bank_of_America_Facebook', 0.7741339744525769),\n",
       " ('Bank_of_America_Google', 0.775981014720559),\n",
       " ('Bank_of_America_Lego', 0.7919567168983626),\n",
       " ('Bank_of_America_Microsoft', 0.8435358010178904),\n",
       " ('Facebook_Amazon', 0.881454452090848),\n",
       " ('Facebook_BMO', 0.7663877469709095),\n",
       " ('Facebook_Bank_of_America', 0.7741339744525769),\n",
       " ('Facebook_Google', 0.8574145421055276),\n",
       " ('Facebook_Lego', 0.8551215815902846),\n",
       " ('Facebook_Microsoft', 0.8119727455977749),\n",
       " ('Google_Amazon', 0.864084258346419),\n",
       " ('Google_BMO', 0.7613793177815622),\n",
       " ('Google_Bank_of_America', 0.775981014720559),\n",
       " ('Google_Facebook', 0.8574145421055276),\n",
       " ('Google_Lego', 0.9315755913018533),\n",
       " ('Google_Microsoft', 0.8386409792456604),\n",
       " ('Lego_Amazon', 0.8936735879736102),\n",
       " ('Lego_BMO', 0.735840629820065),\n",
       " ('Lego_Bank_of_America', 0.7919567168983626),\n",
       " ('Lego_Facebook', 0.8551215815902846),\n",
       " ('Lego_Google', 0.9315755913018533),\n",
       " ('Lego_Microsoft', 0.8594561743270323),\n",
       " ('Microsoft_Amazon', 0.8652825836943148),\n",
       " ('Microsoft_BMO', 0.7147037057136554),\n",
       " ('Microsoft_Bank_of_America', 0.8435358010178904),\n",
       " ('Microsoft_Facebook', 0.8119727455977749),\n",
       " ('Microsoft_Google', 0.8386409792456604),\n",
       " ('Microsoft_Lego', 0.8594561743270323)]"
      ]
     },
     "execution_count": 207,
     "metadata": {},
     "output_type": "execute_result"
    }
   ],
   "source": [
    "sorted(client_similarity_dct.items(), key=operator.itemgetter(0))"
   ]
  },
  {
   "cell_type": "code",
   "execution_count": 48,
   "metadata": {},
   "outputs": [],
   "source": [
    "all_signal_lst = range(1, 23)"
   ]
  },
  {
   "cell_type": "code",
   "execution_count": 184,
   "metadata": {},
   "outputs": [
    {
     "data": {
      "text/plain": [
       "-0.28527531046680044"
      ]
     },
     "execution_count": 184,
     "metadata": {},
     "output_type": "execute_result"
    }
   ],
   "source": [
    "mu2, sigma2 = -0.3, 0.1\n",
    "np.random.normal(mu2, sigma2)"
   ]
  },
  {
   "cell_type": "code",
   "execution_count": 192,
   "metadata": {},
   "outputs": [],
   "source": [
    "# generate signal frequency for each client\n",
    "## to mimic the signal frequency in real word, add some randomness\n",
    "mu1, sigma1 = 30, 10\n",
    "mu2, sigma2 = -0.05, 0.05\n",
    "mu3, sigma3 = -0.3, 0.1\n",
    "\n",
    "def get_signal_frequency(client_df, all_signal_lst):\n",
    "    signal_frequency_dct = {}\n",
    "    signal_ct = client_df['triggered_rule'].value_counts()\n",
    "    for signal in all_signal_lst:\n",
    "        if signal in client_df['triggered_rule'].value_counts().index:\n",
    "            signal_frequency_dct[signal] = signal_ct[signal]/sum(client_df['triggered_rule'].value_counts().iloc[1:,])\n",
    "            if signal_frequency_dct[signal] < 0.05:\n",
    "                rand = np.random.normal(mu1, sigma1)\n",
    "                signal_frequency_dct[signal] *= rand\n",
    "            elif signal_frequency_dct[signal] < 0.8 and signal_frequency_dct[signal] >= 0.05:\n",
    "                rand = np.random.normal(mu2, sigma2)\n",
    "                signal_frequency_dct[signal] += rand\n",
    "            else:\n",
    "                rand = np.random.normal(mu3, sigma3)\n",
    "                signal_frequency_dct[signal] += rand\n",
    "        else:\n",
    "            signal_frequency_dct[signal] = 0\n",
    "    return signal_frequency_dct\n",
    "    \n",
    "target_client_idx = 0\n",
    "all_client_signal_frequency = {}\n",
    "for i in range(len(client_df_lst)):\n",
    "    client_df = client_df_lst[i]\n",
    "    signal_frequency_dct = get_signal_frequency(client_df, all_signal_lst)\n",
    "    all_client_signal_frequency[client_lst[i]] = signal_frequency_dct"
   ]
  },
  {
   "cell_type": "code",
   "execution_count": 202,
   "metadata": {},
   "outputs": [
    {
     "name": "stdout",
     "output_type": "stream",
     "text": [
      "Lego\n",
      "[(4, 0.5710381409997853), (15, 0.5148847759722488), (10, 0.4238081421270834), (5, 0.42278923630247256), (9, 0.3718811397642264), (17, 0.16038304085825608), (8, 0.1262906629867076), (13, 0.11335112352804091), (20, 0.11290833044153772), (7, 0.024075971714223474), (19, 0.003570804839843054), (6, 0.0024425931562765462), (11, 0.002070887376836249), (14, 0.0010109016001502466), (16, 0.0008439926595273739), (1, 0), (2, 0), (3, 0), (12, 0), (18, 0), (21, 0), (22, 0)]\n",
      "\n",
      "Microsoft\n",
      "[(15, 0.7054851552455377), (9, 0.6104524770307895), (10, 0.5232505896804764), (4, 0.47011429804352245), (5, 0.42686660375480856), (17, 0.2545844804265569), (8, 0.18650098453578962), (13, 0.17866334157813824), (20, 0.07303335501333971), (7, 0.030314334589995003), (6, 0.004915687322643149), (19, 0.002828181350875369), (14, 0.002084219663490933), (11, 0.001903825747441487), (16, 0.0008316536710304754), (1, 0), (2, 0), (3, 0), (12, 0), (18, 0), (21, 0), (22, 0)]\n",
      "\n",
      "Google\n",
      "[(4, 0.7325415972330528), (9, 0.572231747116455), (15, 0.5127578464861069), (5, 0.3508231075014231), (10, 0.32013115496364347), (20, 0.14233214067318795), (13, 0.13343868207341064), (17, 0.10491410910762243), (8, 0.09762406595211058), (7, 0.011783198395803229), (19, 0.005360943816734508), (6, 0.00419176773042412), (11, 0.004078812231626566), (14, 0.0013015803046058855), (1, 0), (2, 0), (3, 0), (12, 0), (16, 0), (18, 0), (21, 0), (22, 0)]\n",
      "\n",
      "Facebook\n",
      "[(4, 0.6860582778140963), (5, 0.6357414881853458), (15, 0.5265328081824399), (10, 0.3922637025379116), (9, 0.38820815332455305), (17, 0.22039558520117233), (13, 0.16585320042829374), (20, 0.11903369873066907), (8, 0.07749908779352131), (7, 0.027366704312746508), (19, 0.005340230143667469), (11, 0.004046108675644983), (6, 0.003700283793602881), (14, 0.0010853770958351738), (1, 0), (2, 0), (3, 0), (12, 0), (16, 0), (18, 0), (21, 0), (22, 0)]\n",
      "\n",
      "Amazon\n",
      "[(4, 0.6529144916825405), (10, 0.6009164331953663), (9, 0.4053717999419122), (17, 0.2643007427669748), (5, 0.21163552249585127), (15, 0.20748600494512043), (8, 0.1505924211432105), (13, 0.14280422572553103), (20, 0.09747283975337198), (7, 0.023025064201763396), (11, 0.0040035519233872965), (19, 0.0034580851179396863), (6, 0.0032435624800201844), (14, 0.0009358845352242893), (16, 0.000891948376171656), (1, 0), (2, 0), (3, 0), (12, 0), (18, 0), (21, 0), (22, 0)]\n",
      "\n",
      "Bank_of_America\n",
      "[(4, 0.5836380312863062), (15, 0.5196742570945603), (9, 0.4414508325917413), (10, 0.4267470519684983), (5, 0.288636516287221), (17, 0.18239911898315306), (20, 0.09077717535302607), (8, 0.07691248566122973), (7, 0.03383429314849546), (13, 0.0264086553048135), (6, 0.0060754051520321845), (11, 0.003158149240365817), (19, 0.0016650005030783238), (16, 0.000948634502076823), (1, 0.0004624478140611595), (14, 0.0003569761965323485), (2, 0), (3, 0), (12, 0), (18, 0), (21, 0), (22, 0)]\n",
      "\n",
      "BMO\n",
      "[(4, 0.5927022712589818), (5, 0.42990395254124736), (10, 0.3686498935241885), (9, 0.293094605692389), (17, 0.22317449547763787), (15, 0.1531151761449795), (13, 0.13705981403274936), (8, 0.0666578766222689), (20, 0.060533954768710665), (7, 0.023166499853531544), (14, 0.0037300750801514673), (11, 0.002785311863197528), (19, 0.0023703808879691145), (6, 0.001224208531289011), (1, 0), (2, 0), (3, 0), (12, 0), (16, 0), (18, 0), (21, 0), (22, 0)]\n",
      "\n"
     ]
    }
   ],
   "source": [
    "for client, client_frequency in all_client_signal_frequency.items():\n",
    "    print(client)\n",
    "    sorted_client_frequency = sorted(client_frequency.items(), key=operator.itemgetter(1), reverse=True)\n",
    "    print(sorted_client_frequency)\n",
    "    print()"
   ]
  },
  {
   "cell_type": "code",
   "execution_count": 221,
   "metadata": {},
   "outputs": [],
   "source": [
    "# Calculate signal ranking score, return top k\n",
    "def recommend_signals(target_client, client_similarity_dct, all_client_signal_rating, all_signal_lst, k=3):\n",
    "    signal_recommend_dct = {}\n",
    "    \n",
    "    for signal in all_signal_lst:\n",
    "        total_weighted_rating = 0.0\n",
    "        total_weights = 0.0\n",
    "        for client, client_signal_rating in all_client_signal_rating.items():\n",
    "            if client == target_client:\n",
    "                continue\n",
    "            signal_rating = client_signal_rating[signal]\n",
    "            if signal_rating > 0:\n",
    "                weight = client_similarity_dct['_'.join([target_client, client])]\n",
    "                total_weights += weight\n",
    "                total_weighted_rating += weight * signal_rating\n",
    "                \n",
    "        if total_weights > 0:\n",
    "            recommend_score = total_weighted_rating/total_weights\n",
    "        else:\n",
    "            recommend_score = 0\n",
    "        signal_recommend_dct[signal] = recommend_score\n",
    "    sorted_recommend_score = sorted(signal_recommend_dct.items(), key=operator.itemgetter(1), reverse=True)\n",
    "    recommended_signals = [signal_set[0] for signal_set in sorted_recommend_score[0:k]]\n",
    "    return sorted_recommend_score, recommended_signals"
   ]
  },
  {
   "cell_type": "code",
   "execution_count": 222,
   "metadata": {},
   "outputs": [
    {
     "name": "stdout",
     "output_type": "stream",
     "text": [
      "[4, 10, 9]\n",
      "[(4, 0.637074146135053), (10, 0.42456722302100997), (9, 0.41498030639398437), (15, 0.4109380725867866), (5, 0.3866639021486581), (17, 0.19191723429917448), (13, 0.11914150224462429), (20, 0.10483976736889156), (8, 0.10056852012978633), (7, 0.02388035771504711), (19, 0.0036467967298500436), (6, 0.0035320281531721377), (11, 0.0033656440263885212), (14, 0.0013415187373657512), (16, 0.0008945185608252312), (1, 0.0004624478140611595), (2, 0), (3, 0), (12, 0), (18, 0), (21, 0), (22, 0)]\n"
     ]
    }
   ],
   "source": [
    "target_client = 'Microsoft'  # most similar to Amazon\n",
    "sorted_recommend_score, recommended_signals = recommend_signals(target_client, client_similarity_dct, \n",
    "                                         all_client_signal_frequency, all_signal_lst, k=3)\n",
    "print(recommended_signals)\n",
    "print(sorted_recommend_score)"
   ]
  }
 ],
 "metadata": {
  "kernelspec": {
   "display_name": "Python 3",
   "language": "python",
   "name": "python3"
  },
  "language_info": {
   "codemirror_mode": {
    "name": "ipython",
    "version": 3
   },
   "file_extension": ".py",
   "mimetype": "text/x-python",
   "name": "python",
   "nbconvert_exporter": "python",
   "pygments_lexer": "ipython3",
   "version": "3.6.5"
  }
 },
 "nbformat": 4,
 "nbformat_minor": 2
}
