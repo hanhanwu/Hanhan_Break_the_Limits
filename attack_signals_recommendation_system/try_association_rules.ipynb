{
 "cells": [
  {
   "cell_type": "code",
   "execution_count": 1,
   "metadata": {},
   "outputs": [],
   "source": [
    "from pyspark.ml.fpm import FPGrowth\n",
    "from pyspark.context import SparkContext\n",
    "from pyspark.sql.session import SparkSession\n",
    "\n",
    "sc = SparkContext('local')\n",
    "spark = SparkSession(sc)"
   ]
  },
  {
   "cell_type": "code",
   "execution_count": 16,
   "metadata": {},
   "outputs": [
    {
     "data": {
      "text/plain": [
       "[Row(duration='0', protocol_type='1', service='24', flag='9', src_bytes='245', dst_bytes='2413', land='0', wrong_fragment='0', urgent='0', hot='0', num_failed_logins='0', logged_in='1', num_compromised='0', root_shell='0', su_attempted='0', num_root='0', num_file_creations='0', num_shells='0', num_access_files='0', is_guest_login='0', count='3', srv_count='3', serror_rate='0.0', srv_serror_rate='0.0', rerror_rate='0.0', srv_rerror_rate='0.0', same_srv_rate='1.0', diff_srv_rate='0.0', srv_diff_host_rate='0.0', dst_host_count='88', dst_host_srv_count='255', dst_host_same_srv_rate='1.0', dst_host_diff_srv_rate='0.0', dst_host_same_src_port_rate='0.01', dst_host_srv_diff_host_rate='0.02', dst_host_serror_rate='0.0', dst_host_srv_serror_rate='0.0', dst_host_rerror_rate='0.0', dst_host_srv_rerror_rate='0.0', src_dst_bytes_diff='2168', y_test='0'),\n",
       " Row(duration='0', protocol_type='1', service='49', flag='1', src_bytes='0', dst_bytes='0', land='0', wrong_fragment='0', urgent='0', hot='0', num_failed_logins='0', logged_in='0', num_compromised='0', root_shell='0', su_attempted='0', num_root='0', num_file_creations='0', num_shells='0', num_access_files='0', is_guest_login='0', count='113', srv_count='12', serror_rate='0.0', srv_serror_rate='0.0', rerror_rate='1.0', srv_rerror_rate='1.0', same_srv_rate='0.11', diff_srv_rate='0.08', srv_diff_host_rate='0.0', dst_host_count='255', dst_host_srv_count='12', dst_host_same_srv_rate='0.05', dst_host_diff_srv_rate='0.07', dst_host_same_src_port_rate='0.0', dst_host_srv_diff_host_rate='0.0', dst_host_serror_rate='0.0', dst_host_srv_serror_rate='0.0', dst_host_rerror_rate='1.0', dst_host_srv_rerror_rate='1.0', src_dst_bytes_diff='0', y_test='4')]"
      ]
     },
     "execution_count": 16,
     "metadata": {},
     "output_type": "execute_result"
    }
   ],
   "source": [
    "df = spark.read.csv('simulate_source.csv', header=True)\n",
    "df = df.drop('y_pred')\n",
    "df.head(2)"
   ]
  }
 ],
 "metadata": {
  "kernelspec": {
   "display_name": "Python 3",
   "language": "python",
   "name": "python3"
  },
  "language_info": {
   "codemirror_mode": {
    "name": "ipython",
    "version": 3
   },
   "file_extension": ".py",
   "mimetype": "text/x-python",
   "name": "python",
   "nbconvert_exporter": "python",
   "pygments_lexer": "ipython3",
   "version": "3.6.5"
  }
 },
 "nbformat": 4,
 "nbformat_minor": 2
}
