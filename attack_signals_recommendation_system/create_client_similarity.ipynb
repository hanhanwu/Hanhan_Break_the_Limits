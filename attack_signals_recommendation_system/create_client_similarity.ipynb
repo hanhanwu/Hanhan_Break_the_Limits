{
 "cells": [
  {
   "cell_type": "markdown",
   "metadata": {},
   "source": [
    "# Create Clients' Similarity\n",
    "\n",
    "* Create common features for each client, then calculate their similarity"
   ]
  },
  {
   "cell_type": "code",
   "execution_count": 10,
   "metadata": {},
   "outputs": [],
   "source": [
    "import pandas as pd\n",
    "from scipy import stats"
   ]
  },
  {
   "cell_type": "code",
   "execution_count": 2,
   "metadata": {},
   "outputs": [],
   "source": [
    "client_lst = ['Lego', 'Microsoft', 'Google', 'Facebook', 'Amazon', 'Bank_of_America', 'BMO']"
   ]
  },
  {
   "cell_type": "code",
   "execution_count": 3,
   "metadata": {},
   "outputs": [
    {
     "name": "stdout",
     "output_type": "stream",
     "text": [
      "Lego (153108, 41)\n",
      "Microsoft (179479, 41)\n",
      "Google (142497, 41)\n",
      "Facebook (134890, 41)\n",
      "Amazon (161766, 41)\n",
      "Bank_of_America (223232, 41)\n",
      "BMO (102513, 41)\n",
      "7\n"
     ]
    }
   ],
   "source": [
    "client_df_lst = []\n",
    "\n",
    "for client in client_lst:\n",
    "    client_df = pd.read_csv('feature_rule_'+client+'.csv')\n",
    "    print(client, client_df.shape)\n",
    "    client_df_lst.append(client_df)\n",
    "    \n",
    "print(len(client_df_lst))"
   ]
  },
  {
   "cell_type": "code",
   "execution_count": 6,
   "metadata": {},
   "outputs": [
    {
     "data": {
      "text/plain": [
       "Index(['duration', 'protocol_type', 'service', 'flag', 'src_bytes',\n",
       "       'dst_bytes', 'land', 'wrong_fragment', 'urgent', 'hot',\n",
       "       'num_failed_logins', 'logged_in', 'num_compromised', 'root_shell',\n",
       "       'su_attempted', 'num_root', 'num_file_creations', 'num_shells',\n",
       "       'num_access_files', 'is_guest_login', 'count', 'srv_count',\n",
       "       'serror_rate', 'srv_serror_rate', 'rerror_rate', 'srv_rerror_rate',\n",
       "       'same_srv_rate', 'diff_srv_rate', 'srv_diff_host_rate',\n",
       "       'dst_host_count', 'dst_host_srv_count', 'dst_host_same_srv_rate',\n",
       "       'dst_host_diff_srv_rate', 'dst_host_same_src_port_rate',\n",
       "       'dst_host_srv_diff_host_rate', 'dst_host_serror_rate',\n",
       "       'dst_host_srv_serror_rate', 'dst_host_rerror_rate',\n",
       "       'dst_host_srv_rerror_rate', 'src_dst_bytes_diff', 'triggered_rule'],\n",
       "      dtype='object')"
      ]
     },
     "execution_count": 6,
     "metadata": {},
     "output_type": "execute_result"
    }
   ],
   "source": [
    "client_df_lst[0].columns"
   ]
  },
  {
   "cell_type": "code",
   "execution_count": 9,
   "metadata": {},
   "outputs": [
    {
     "data": {
      "text/html": [
       "<div>\n",
       "<style scoped>\n",
       "    .dataframe tbody tr th:only-of-type {\n",
       "        vertical-align: middle;\n",
       "    }\n",
       "\n",
       "    .dataframe tbody tr th {\n",
       "        vertical-align: top;\n",
       "    }\n",
       "\n",
       "    .dataframe thead th {\n",
       "        text-align: right;\n",
       "    }\n",
       "</style>\n",
       "<table border=\"1\" class=\"dataframe\">\n",
       "  <thead>\n",
       "    <tr style=\"text-align: right;\">\n",
       "      <th></th>\n",
       "      <th>duration</th>\n",
       "      <th>protocol_type</th>\n",
       "      <th>service</th>\n",
       "      <th>flag</th>\n",
       "      <th>src_bytes</th>\n",
       "      <th>dst_bytes</th>\n",
       "      <th>land</th>\n",
       "      <th>wrong_fragment</th>\n",
       "      <th>urgent</th>\n",
       "      <th>hot</th>\n",
       "    </tr>\n",
       "  </thead>\n",
       "  <tbody>\n",
       "    <tr>\n",
       "      <th>0</th>\n",
       "      <td>0</td>\n",
       "      <td>1</td>\n",
       "      <td>49</td>\n",
       "      <td>5</td>\n",
       "      <td>0</td>\n",
       "      <td>0</td>\n",
       "      <td>0</td>\n",
       "      <td>0</td>\n",
       "      <td>0</td>\n",
       "      <td>0</td>\n",
       "    </tr>\n",
       "    <tr>\n",
       "      <th>1</th>\n",
       "      <td>0</td>\n",
       "      <td>1</td>\n",
       "      <td>24</td>\n",
       "      <td>9</td>\n",
       "      <td>280</td>\n",
       "      <td>3197</td>\n",
       "      <td>0</td>\n",
       "      <td>0</td>\n",
       "      <td>0</td>\n",
       "      <td>0</td>\n",
       "    </tr>\n",
       "    <tr>\n",
       "      <th>2</th>\n",
       "      <td>0</td>\n",
       "      <td>1</td>\n",
       "      <td>24</td>\n",
       "      <td>9</td>\n",
       "      <td>311</td>\n",
       "      <td>2880</td>\n",
       "      <td>0</td>\n",
       "      <td>0</td>\n",
       "      <td>0</td>\n",
       "      <td>0</td>\n",
       "    </tr>\n",
       "    <tr>\n",
       "      <th>3</th>\n",
       "      <td>0</td>\n",
       "      <td>1</td>\n",
       "      <td>24</td>\n",
       "      <td>9</td>\n",
       "      <td>303</td>\n",
       "      <td>1841</td>\n",
       "      <td>0</td>\n",
       "      <td>0</td>\n",
       "      <td>0</td>\n",
       "      <td>0</td>\n",
       "    </tr>\n",
       "    <tr>\n",
       "      <th>4</th>\n",
       "      <td>0</td>\n",
       "      <td>1</td>\n",
       "      <td>49</td>\n",
       "      <td>5</td>\n",
       "      <td>0</td>\n",
       "      <td>0</td>\n",
       "      <td>0</td>\n",
       "      <td>0</td>\n",
       "      <td>0</td>\n",
       "      <td>0</td>\n",
       "    </tr>\n",
       "  </tbody>\n",
       "</table>\n",
       "</div>"
      ],
      "text/plain": [
       "   duration  protocol_type  service  flag  src_bytes  dst_bytes  land  \\\n",
       "0         0              1       49     5          0          0     0   \n",
       "1         0              1       24     9        280       3197     0   \n",
       "2         0              1       24     9        311       2880     0   \n",
       "3         0              1       24     9        303       1841     0   \n",
       "4         0              1       49     5          0          0     0   \n",
       "\n",
       "   wrong_fragment  urgent  hot  \n",
       "0               0       0    0  \n",
       "1               0       0    0  \n",
       "2               0       0    0  \n",
       "3               0       0    0  \n",
       "4               0       0    0  "
      ]
     },
     "execution_count": 9,
     "metadata": {},
     "output_type": "execute_result"
    }
   ],
   "source": [
    "client_df_lst[0].iloc[:, 0:10].head()"
   ]
  },
  {
   "cell_type": "code",
   "execution_count": 27,
   "metadata": {},
   "outputs": [],
   "source": [
    "# for client similarity score, just use t-test to compare each column and aggregate the results\n",
    "def compare_col(col1, col2):\n",
    "    \"\"\"\n",
    "    Compare the similarity between 2 columns, higher the p-value is, more similar the 2 columns are .\n",
    "    \"\"\"\n",
    "    pvalue = stats.ttest_ind(col1, col2)[1]\n",
    "    return pvalue"
   ]
  },
  {
   "cell_type": "code",
   "execution_count": 31,
   "metadata": {},
   "outputs": [],
   "source": [
    "feature_lst = client_df_lst[0].columns[0:-1]\n",
    "client_similarity_dct = {}\n",
    "\n",
    "for i in range(len(client_lst)-1):\n",
    "    clienti = client_df_lst[i]\n",
    "    for j in range(i+1, len(client_lst)):\n",
    "        clientj = client_df_lst[j]\n",
    "        similarity_score = 0.0\n",
    "        for col in feature_lst:\n",
    "            similarity_score += compare_col(clienti[col], clientj[col])\n",
    "        similarity_score /= len(feature_lst)\n",
    "        client_similarity_dct['_'.join([client_lst[i], client_lst[j]])] = similarity_score\n",
    "        client_similarity_dct['_'.join([client_lst[j], client_lst[i]])] = similarity_score"
   ]
  },
  {
   "cell_type": "code",
   "execution_count": 32,
   "metadata": {},
   "outputs": [
    {
     "data": {
      "text/plain": [
       "{'Lego_Microsoft': 0.8594561743270323,\n",
       " 'Microsoft_Lego': 0.8594561743270323,\n",
       " 'Lego_Google': 0.9315755913018533,\n",
       " 'Google_Lego': 0.9315755913018533,\n",
       " 'Lego_Facebook': 0.8551215815902846,\n",
       " 'Facebook_Lego': 0.8551215815902846,\n",
       " 'Lego_Amazon': 0.8936735879736102,\n",
       " 'Amazon_Lego': 0.8936735879736102,\n",
       " 'Lego_Bank_of_America': 0.7919567168983626,\n",
       " 'Bank_of_America_Lego': 0.7919567168983626,\n",
       " 'Lego_BMO': 0.735840629820065,\n",
       " 'BMO_Lego': 0.735840629820065,\n",
       " 'Microsoft_Google': 0.8386409792456604,\n",
       " 'Google_Microsoft': 0.8386409792456604,\n",
       " 'Microsoft_Facebook': 0.8119727455977749,\n",
       " 'Facebook_Microsoft': 0.8119727455977749,\n",
       " 'Microsoft_Amazon': 0.8652825836943148,\n",
       " 'Amazon_Microsoft': 0.8652825836943148,\n",
       " 'Microsoft_Bank_of_America': 0.8435358010178904,\n",
       " 'Bank_of_America_Microsoft': 0.8435358010178904,\n",
       " 'Microsoft_BMO': 0.7147037057136554,\n",
       " 'BMO_Microsoft': 0.7147037057136554,\n",
       " 'Google_Facebook': 0.8574145421055276,\n",
       " 'Facebook_Google': 0.8574145421055276,\n",
       " 'Google_Amazon': 0.864084258346419,\n",
       " 'Amazon_Google': 0.864084258346419,\n",
       " 'Google_Bank_of_America': 0.775981014720559,\n",
       " 'Bank_of_America_Google': 0.775981014720559,\n",
       " 'Google_BMO': 0.7613793177815622,\n",
       " 'BMO_Google': 0.7613793177815622,\n",
       " 'Facebook_Amazon': 0.881454452090848,\n",
       " 'Amazon_Facebook': 0.881454452090848,\n",
       " 'Facebook_Bank_of_America': 0.7741339744525769,\n",
       " 'Bank_of_America_Facebook': 0.7741339744525769,\n",
       " 'Facebook_BMO': 0.7663877469709095,\n",
       " 'BMO_Facebook': 0.7663877469709095,\n",
       " 'Amazon_Bank_of_America': 0.8092270979910955,\n",
       " 'Bank_of_America_Amazon': 0.8092270979910955,\n",
       " 'Amazon_BMO': 0.7365484950772161,\n",
       " 'BMO_Amazon': 0.7365484950772161,\n",
       " 'Bank_of_America_BMO': 0.6514256358722161,\n",
       " 'BMO_Bank_of_America': 0.6514256358722161}"
      ]
     },
     "execution_count": 32,
     "metadata": {},
     "output_type": "execute_result"
    }
   ],
   "source": [
    "client_similarity_dct"
   ]
  },
  {
   "cell_type": "code",
   "execution_count": 48,
   "metadata": {},
   "outputs": [],
   "source": [
    "all_signal_lst = range(1, 23)"
   ]
  },
  {
   "cell_type": "code",
   "execution_count": 57,
   "metadata": {},
   "outputs": [],
   "source": [
    "# generate signal frequency for each client\n",
    "def get_signal_frequency(client_df, all_signal_lst):\n",
    "    signal_frequency_dct = {}\n",
    "    signal_ct = client_df['triggered_rule'].value_counts()\n",
    "    for signal in all_signal_lst:\n",
    "        if signal in client_df['triggered_rule'].value_counts().index:\n",
    "            signal_frequency_dct[signal] = signal_ct[signal]/sum(client_df['triggered_rule'].value_counts().iloc[1:,])\n",
    "        else:\n",
    "            signal_frequency_dct[signal] = 0\n",
    "    return signal_frequency_dct\n",
    "    \n",
    "target_client_idx = 0\n",
    "all_client_signal_frequency = {}\n",
    "for i in range(len(client_df_lst)):\n",
    "    if i == target_client_idx:\n",
    "        continue\n",
    "        \n",
    "    client_df = client_df_lst[i]\n",
    "    signal_frequency_dct = get_signal_frequency(client_df, all_signal_lst)\n",
    "    all_client_signal_frequency[client_lst[i]] = signal_frequency_dct"
   ]
  },
  {
   "cell_type": "code",
   "execution_count": 58,
   "metadata": {},
   "outputs": [
    {
     "name": "stdout",
     "output_type": "stream",
     "text": [
      "Microsoft\n",
      "{1: 0, 2: 0, 3: 0, 4: 0.9237047875988843, 5: 0.011980428917645983, 6: 0.0001371804837898395, 7: 0.0007773560748090904, 8: 0.0035209657506058804, 9: 0.013489414239334217, 10: 0.014518267867758014, 11: 0.00011431706982486625, 12: 0, 13: 0.0038639169600804793, 14: 4.57268279299465e-05, 15: 0.018679409209383144, 16: 2.286341396497325e-05, 17: 0.0054872193515935795, 18: 0, 19: 9.1453655859893e-05, 20: 0.003566692578535827, 21: 0, 22: 0}\n"
     ]
    }
   ],
   "source": [
    "for client, client_frequency in all_client_signal_frequency.items():\n",
    "    print(client)\n",
    "    print(client_frequency)\n",
    "    break"
   ]
  },
  {
   "cell_type": "code",
   "execution_count": null,
   "metadata": {},
   "outputs": [],
   "source": []
  }
 ],
 "metadata": {
  "kernelspec": {
   "display_name": "Python 3",
   "language": "python",
   "name": "python3"
  },
  "language_info": {
   "codemirror_mode": {
    "name": "ipython",
    "version": 3
   },
   "file_extension": ".py",
   "mimetype": "text/x-python",
   "name": "python",
   "nbconvert_exporter": "python",
   "pygments_lexer": "ipython3",
   "version": "3.6.5"
  }
 },
 "nbformat": 4,
 "nbformat_minor": 2
}
