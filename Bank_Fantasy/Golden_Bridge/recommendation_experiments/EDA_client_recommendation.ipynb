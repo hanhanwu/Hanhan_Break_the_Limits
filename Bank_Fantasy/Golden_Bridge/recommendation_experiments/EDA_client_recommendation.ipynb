{
 "cells": [
  {
   "cell_type": "markdown",
   "metadata": {},
   "source": [
    "# Data Exploration for Client Recommendation\n",
    "\n",
    "Before doing client recommendation, I'm going to do some data analysis to see whether my plan is practical."
   ]
  },
  {
   "cell_type": "code",
   "execution_count": 1,
   "metadata": {},
   "outputs": [],
   "source": [
    "import pandas as pd\n",
    "import numpy as np"
   ]
  },
  {
   "cell_type": "markdown",
   "metadata": {},
   "source": [
    "## Client Purchase Ability to Merchant Avg Clients\n",
    "\n",
    "* `merchant_match_score = abs(1 - target_client_avg_purchase_dollars / avg_client_sales_per_client)`\n",
    "  * This score will be used to find merchant candidates in collaborative filtering\n",
    "  * Smaller the score, the better match"
   ]
  },
  {
   "cell_type": "code",
   "execution_count": null,
   "metadata": {},
   "outputs": [],
   "source": []
  }
 ],
 "metadata": {
  "kernelspec": {
   "display_name": "Python 3",
   "language": "python",
   "name": "python3"
  },
  "language_info": {
   "codemirror_mode": {
    "name": "ipython",
    "version": 3
   },
   "file_extension": ".py",
   "mimetype": "text/x-python",
   "name": "python",
   "nbconvert_exporter": "python",
   "pygments_lexer": "ipython3",
   "version": "3.7.6"
  }
 },
 "nbformat": 4,
 "nbformat_minor": 4
}
