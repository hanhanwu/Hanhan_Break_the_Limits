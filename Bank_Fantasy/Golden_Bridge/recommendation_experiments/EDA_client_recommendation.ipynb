{
 "cells": [
  {
   "cell_type": "markdown",
   "metadata": {},
   "source": [
    "# Data Exploration for Client Recommendation\n",
    "\n",
    "Before doing client recommendation, I'm going to do some data analysis to see whether my plan is practical."
   ]
  },
  {
   "cell_type": "code",
   "execution_count": 1,
   "metadata": {},
   "outputs": [],
   "source": [
    "import pandas as pd\n",
    "import numpy as np"
   ]
  },
  {
   "cell_type": "code",
   "execution_count": 5,
   "metadata": {},
   "outputs": [
    {
     "name": "stdout",
     "output_type": "stream",
     "text": [
      "(33720820, 12) (98286, 12)\n"
     ]
    },
    {
     "data": {
      "text/html": [
       "<div>\n",
       "<style scoped>\n",
       "    .dataframe tbody tr th:only-of-type {\n",
       "        vertical-align: middle;\n",
       "    }\n",
       "\n",
       "    .dataframe tbody tr th {\n",
       "        vertical-align: top;\n",
       "    }\n",
       "\n",
       "    .dataframe thead th {\n",
       "        text-align: right;\n",
       "    }\n",
       "</style>\n",
       "<table border=\"1\" class=\"dataframe\">\n",
       "  <thead>\n",
       "    <tr style=\"text-align: right;\">\n",
       "      <th></th>\n",
       "      <th>order_id</th>\n",
       "      <th>user_id</th>\n",
       "      <th>order_number</th>\n",
       "      <th>order_hour_of_day</th>\n",
       "      <th>product_id</th>\n",
       "      <th>purchase_date</th>\n",
       "      <th>merchant</th>\n",
       "      <th>product_name</th>\n",
       "      <th>price</th>\n",
       "      <th>aisle</th>\n",
       "      <th>department</th>\n",
       "      <th>week_number</th>\n",
       "    </tr>\n",
       "  </thead>\n",
       "  <tbody>\n",
       "    <tr>\n",
       "      <th>0</th>\n",
       "      <td>2539329</td>\n",
       "      <td>1</td>\n",
       "      <td>1</td>\n",
       "      <td>8</td>\n",
       "      <td>196</td>\n",
       "      <td>2019-02-13</td>\n",
       "      <td>L&amp;M Markets (Hometown Grocers Co-op)</td>\n",
       "      <td>Soda</td>\n",
       "      <td>3.08</td>\n",
       "      <td>soft drinks</td>\n",
       "      <td>beverages</td>\n",
       "      <td>7</td>\n",
       "    </tr>\n",
       "    <tr>\n",
       "      <th>1</th>\n",
       "      <td>2231262</td>\n",
       "      <td>31</td>\n",
       "      <td>17</td>\n",
       "      <td>11</td>\n",
       "      <td>196</td>\n",
       "      <td>2019-03-10</td>\n",
       "      <td>L&amp;M Markets (Hometown Grocers Co-op)</td>\n",
       "      <td>Soda</td>\n",
       "      <td>3.08</td>\n",
       "      <td>soft drinks</td>\n",
       "      <td>beverages</td>\n",
       "      <td>10</td>\n",
       "    </tr>\n",
       "    <tr>\n",
       "      <th>2</th>\n",
       "      <td>3058369</td>\n",
       "      <td>195</td>\n",
       "      <td>34</td>\n",
       "      <td>10</td>\n",
       "      <td>196</td>\n",
       "      <td>2019-02-25</td>\n",
       "      <td>L&amp;M Markets (Hometown Grocers Co-op)</td>\n",
       "      <td>Soda</td>\n",
       "      <td>3.08</td>\n",
       "      <td>soft drinks</td>\n",
       "      <td>beverages</td>\n",
       "      <td>9</td>\n",
       "    </tr>\n",
       "    <tr>\n",
       "      <th>3</th>\n",
       "      <td>2257155</td>\n",
       "      <td>951</td>\n",
       "      <td>3</td>\n",
       "      <td>20</td>\n",
       "      <td>196</td>\n",
       "      <td>2019-03-09</td>\n",
       "      <td>L&amp;M Markets (Hometown Grocers Co-op)</td>\n",
       "      <td>Soda</td>\n",
       "      <td>3.08</td>\n",
       "      <td>soft drinks</td>\n",
       "      <td>beverages</td>\n",
       "      <td>10</td>\n",
       "    </tr>\n",
       "    <tr>\n",
       "      <th>4</th>\n",
       "      <td>1121647</td>\n",
       "      <td>992</td>\n",
       "      <td>7</td>\n",
       "      <td>10</td>\n",
       "      <td>196</td>\n",
       "      <td>2019-03-08</td>\n",
       "      <td>L&amp;M Markets (Hometown Grocers Co-op)</td>\n",
       "      <td>Soda</td>\n",
       "      <td>3.08</td>\n",
       "      <td>soft drinks</td>\n",
       "      <td>beverages</td>\n",
       "      <td>10</td>\n",
       "    </tr>\n",
       "  </tbody>\n",
       "</table>\n",
       "</div>"
      ],
      "text/plain": [
       "   order_id  user_id  order_number  order_hour_of_day  product_id  \\\n",
       "0   2539329        1             1                  8         196   \n",
       "1   2231262       31            17                 11         196   \n",
       "2   3058369      195            34                 10         196   \n",
       "3   2257155      951             3                 20         196   \n",
       "4   1121647      992             7                 10         196   \n",
       "\n",
       "  purchase_date                              merchant product_name  price  \\\n",
       "0    2019-02-13  L&M Markets (Hometown Grocers Co-op)         Soda   3.08   \n",
       "1    2019-03-10  L&M Markets (Hometown Grocers Co-op)         Soda   3.08   \n",
       "2    2019-02-25  L&M Markets (Hometown Grocers Co-op)         Soda   3.08   \n",
       "3    2019-03-09  L&M Markets (Hometown Grocers Co-op)         Soda   3.08   \n",
       "4    2019-03-08  L&M Markets (Hometown Grocers Co-op)         Soda   3.08   \n",
       "\n",
       "         aisle department  week_number  \n",
       "0  soft drinks  beverages            7  \n",
       "1  soft drinks  beverages           10  \n",
       "2  soft drinks  beverages            9  \n",
       "3  soft drinks  beverages           10  \n",
       "4  soft drinks  beverages           10  "
      ]
     },
     "execution_count": 5,
     "metadata": {},
     "output_type": "execute_result"
    }
   ],
   "source": [
    "all_order_train = pd.read_pickle('../all_order_train.pkl')\n",
    "all_order_test = pd.read_pickle('../all_order_test.pkl')\n",
    "print(all_order_train.shape, all_order_test.shape)\n",
    "\n",
    "all_order_train.head()"
   ]
  },
  {
   "cell_type": "markdown",
   "metadata": {},
   "source": [
    "## Shared Functions"
   ]
  },
  {
   "cell_type": "code",
   "execution_count": 18,
   "metadata": {},
   "outputs": [],
   "source": [
    "def get_percentile(col):\n",
    "    result = {'min': np.percentile(col, 0), '1%':np.percentile(col, 1),\n",
    "             '5%':np.percentile(col, 5), '15%':np.percentile(col, 15),\n",
    "             '25%':np.percentile(col, 25), '50%':np.percentile(col, 50), '75%':np.percentile(col, 75),\n",
    "             '85%':np.percentile(col, 85), '95%':np.percentile(col, 95), '99%':np.percentile(col, 99),\n",
    "              'max':np.percentile(col, 100)}\n",
    "    return result"
   ]
  },
  {
   "cell_type": "markdown",
   "metadata": {},
   "source": [
    "## Client Appearance Distribution"
   ]
  },
  {
   "cell_type": "code",
   "execution_count": 10,
   "metadata": {},
   "outputs": [
    {
     "data": {
      "text/html": [
       "<div>\n",
       "<style scoped>\n",
       "    .dataframe tbody tr th:only-of-type {\n",
       "        vertical-align: middle;\n",
       "    }\n",
       "\n",
       "    .dataframe tbody tr th {\n",
       "        vertical-align: top;\n",
       "    }\n",
       "\n",
       "    .dataframe thead th {\n",
       "        text-align: right;\n",
       "    }\n",
       "</style>\n",
       "<table border=\"1\" class=\"dataframe\">\n",
       "  <thead>\n",
       "    <tr style=\"text-align: right;\">\n",
       "      <th></th>\n",
       "      <th>user_id</th>\n",
       "      <th>count</th>\n",
       "    </tr>\n",
       "  </thead>\n",
       "  <tbody>\n",
       "    <tr>\n",
       "      <th>126573</th>\n",
       "      <td>28325</td>\n",
       "      <td>6</td>\n",
       "    </tr>\n",
       "    <tr>\n",
       "      <th>135599</th>\n",
       "      <td>36449</td>\n",
       "      <td>6</td>\n",
       "    </tr>\n",
       "    <tr>\n",
       "      <th>172385</th>\n",
       "      <td>69557</td>\n",
       "      <td>6</td>\n",
       "    </tr>\n",
       "    <tr>\n",
       "      <th>81882</th>\n",
       "      <td>173692</td>\n",
       "      <td>6</td>\n",
       "    </tr>\n",
       "    <tr>\n",
       "      <th>9358</th>\n",
       "      <td>10842</td>\n",
       "      <td>6</td>\n",
       "    </tr>\n",
       "  </tbody>\n",
       "</table>\n",
       "</div>"
      ],
      "text/plain": [
       "       user_id  count\n",
       "126573   28325      6\n",
       "135599   36449      6\n",
       "172385   69557      6\n",
       "81882   173692      6\n",
       "9358     10842      6"
      ]
     },
     "execution_count": 10,
     "metadata": {},
     "output_type": "execute_result"
    }
   ],
   "source": [
    "client_weeks_df = all_order_train[['user_id', 'week_number']].astype('str').drop_duplicates()\\\n",
    "          .groupby(['user_id'], as_index=False)['week_number']\\\n",
    "          .agg(['count']).reset_index()\\\n",
    "          .sort_values(['count'], ascending=False)\n",
    "\n",
    "client_weeks_df.head()"
   ]
  },
  {
   "cell_type": "code",
   "execution_count": 12,
   "metadata": {},
   "outputs": [
    {
     "data": {
      "text/plain": [
       "5    61256\n",
       "4    61174\n",
       "3    51166\n",
       "2    20929\n",
       "6    10836\n",
       "1      848\n",
       "Name: count, dtype: int64"
      ]
     },
     "execution_count": 12,
     "metadata": {},
     "output_type": "execute_result"
    }
   ],
   "source": [
    "client_weeks_df['count'].value_counts()"
   ]
  },
  {
   "cell_type": "markdown",
   "metadata": {},
   "source": [
    "## Client Purchase Ability to Merchant Avg Clients\n",
    "\n",
    "* `merchant_match_score = abs(1 - target_client_avg_purchase_dollars / merchannt_avg_sales_per_client)`\n",
    "  * This score will be used to find merchant candidates in collaborative filtering\n",
    "  * Smaller the score, the better match"
   ]
  },
  {
   "cell_type": "code",
   "execution_count": 16,
   "metadata": {},
   "outputs": [
    {
     "data": {
      "text/html": [
       "<div>\n",
       "<style scoped>\n",
       "    .dataframe tbody tr th:only-of-type {\n",
       "        vertical-align: middle;\n",
       "    }\n",
       "\n",
       "    .dataframe tbody tr th {\n",
       "        vertical-align: top;\n",
       "    }\n",
       "\n",
       "    .dataframe thead th {\n",
       "        text-align: right;\n",
       "    }\n",
       "</style>\n",
       "<table border=\"1\" class=\"dataframe\">\n",
       "  <thead>\n",
       "    <tr style=\"text-align: right;\">\n",
       "      <th></th>\n",
       "      <th>merchant</th>\n",
       "      <th>user_id</th>\n",
       "      <th>price</th>\n",
       "    </tr>\n",
       "  </thead>\n",
       "  <tbody>\n",
       "    <tr>\n",
       "      <th>0</th>\n",
       "      <td>49th Parallel Grocery</td>\n",
       "      <td>1211766</td>\n",
       "      <td>1.452954e+07</td>\n",
       "    </tr>\n",
       "    <tr>\n",
       "      <th>1</th>\n",
       "      <td>Asian Food Centre</td>\n",
       "      <td>1210187</td>\n",
       "      <td>1.451086e+07</td>\n",
       "    </tr>\n",
       "    <tr>\n",
       "      <th>2</th>\n",
       "      <td>Askew's Foods</td>\n",
       "      <td>1203583</td>\n",
       "      <td>1.443146e+07</td>\n",
       "    </tr>\n",
       "    <tr>\n",
       "      <th>3</th>\n",
       "      <td>Avril (Health Supermarket)</td>\n",
       "      <td>1200036</td>\n",
       "      <td>1.439485e+07</td>\n",
       "    </tr>\n",
       "    <tr>\n",
       "      <th>4</th>\n",
       "      <td>Calgary Co-op</td>\n",
       "      <td>1017673</td>\n",
       "      <td>1.218554e+07</td>\n",
       "    </tr>\n",
       "  </tbody>\n",
       "</table>\n",
       "</div>"
      ],
      "text/plain": [
       "                     merchant  user_id         price\n",
       "0       49th Parallel Grocery  1211766  1.452954e+07\n",
       "1           Asian Food Centre  1210187  1.451086e+07\n",
       "2               Askew's Foods  1203583  1.443146e+07\n",
       "3  Avril (Health Supermarket)  1200036  1.439485e+07\n",
       "4               Calgary Co-op  1017673  1.218554e+07"
      ]
     },
     "execution_count": 16,
     "metadata": {},
     "output_type": "execute_result"
    }
   ],
   "source": [
    "merchant_sales_df = all_order_train[['merchant', 'user_id', 'price']].drop_duplicates()\\\n",
    "          .groupby(['merchant'], as_index=False)\\\n",
    "          .agg({'user_id': 'count', 'price': 'sum'})\n",
    "\n",
    "merchant_sales_df.head()"
   ]
  },
  {
   "cell_type": "code",
   "execution_count": 17,
   "metadata": {},
   "outputs": [
    {
     "data": {
      "text/html": [
       "<div>\n",
       "<style scoped>\n",
       "    .dataframe tbody tr th:only-of-type {\n",
       "        vertical-align: middle;\n",
       "    }\n",
       "\n",
       "    .dataframe tbody tr th {\n",
       "        vertical-align: top;\n",
       "    }\n",
       "\n",
       "    .dataframe thead th {\n",
       "        text-align: right;\n",
       "    }\n",
       "</style>\n",
       "<table border=\"1\" class=\"dataframe\">\n",
       "  <thead>\n",
       "    <tr style=\"text-align: right;\">\n",
       "      <th></th>\n",
       "      <th>merchant</th>\n",
       "      <th>user_id</th>\n",
       "      <th>price</th>\n",
       "      <th>avg_sales_per_client</th>\n",
       "    </tr>\n",
       "  </thead>\n",
       "  <tbody>\n",
       "    <tr>\n",
       "      <th>0</th>\n",
       "      <td>49th Parallel Grocery</td>\n",
       "      <td>1211766</td>\n",
       "      <td>1.452954e+07</td>\n",
       "      <td>11.9904</td>\n",
       "    </tr>\n",
       "    <tr>\n",
       "      <th>1</th>\n",
       "      <td>Asian Food Centre</td>\n",
       "      <td>1210187</td>\n",
       "      <td>1.451086e+07</td>\n",
       "      <td>11.9906</td>\n",
       "    </tr>\n",
       "    <tr>\n",
       "      <th>2</th>\n",
       "      <td>Askew's Foods</td>\n",
       "      <td>1203583</td>\n",
       "      <td>1.443146e+07</td>\n",
       "      <td>11.9904</td>\n",
       "    </tr>\n",
       "    <tr>\n",
       "      <th>3</th>\n",
       "      <td>Avril (Health Supermarket)</td>\n",
       "      <td>1200036</td>\n",
       "      <td>1.439485e+07</td>\n",
       "      <td>11.9953</td>\n",
       "    </tr>\n",
       "    <tr>\n",
       "      <th>4</th>\n",
       "      <td>Calgary Co-op</td>\n",
       "      <td>1017673</td>\n",
       "      <td>1.218554e+07</td>\n",
       "      <td>11.9739</td>\n",
       "    </tr>\n",
       "  </tbody>\n",
       "</table>\n",
       "</div>"
      ],
      "text/plain": [
       "                     merchant  user_id         price  avg_sales_per_client\n",
       "0       49th Parallel Grocery  1211766  1.452954e+07               11.9904\n",
       "1           Asian Food Centre  1210187  1.451086e+07               11.9906\n",
       "2               Askew's Foods  1203583  1.443146e+07               11.9904\n",
       "3  Avril (Health Supermarket)  1200036  1.439485e+07               11.9953\n",
       "4               Calgary Co-op  1017673  1.218554e+07               11.9739"
      ]
     },
     "execution_count": 17,
     "metadata": {},
     "output_type": "execute_result"
    }
   ],
   "source": [
    "merchant_sales_df['avg_sales_per_client'] = round(merchant_sales_df['price']/merchant_sales_df['user_id'], 4)\n",
    "\n",
    "merchant_sales_df.head()"
   ]
  },
  {
   "cell_type": "code",
   "execution_count": 19,
   "metadata": {},
   "outputs": [
    {
     "data": {
      "text/plain": [
       "{'min': 11.8612,\n",
       " '1%': 11.87368,\n",
       " '5%': 11.907,\n",
       " '15%': 11.94756,\n",
       " '25%': 11.9562,\n",
       " '50%': 11.9693,\n",
       " '75%': 11.9822,\n",
       " '85%': 11.986419999999999,\n",
       " '95%': 11.99046,\n",
       " '99%': 11.993044000000001,\n",
       " 'max': 11.9953}"
      ]
     },
     "execution_count": 19,
     "metadata": {},
     "output_type": "execute_result"
    }
   ],
   "source": [
    "get_percentile(merchant_sales_df['avg_sales_per_client'])"
   ]
  },
  {
   "cell_type": "markdown",
   "metadata": {},
   "source": [
    "* Seems all the merchants have similar average sales per client... Since I was using uniform random distribution..."
   ]
  },
  {
   "cell_type": "code",
   "execution_count": 20,
   "metadata": {},
   "outputs": [
    {
     "data": {
      "text/html": [
       "<div>\n",
       "<style scoped>\n",
       "    .dataframe tbody tr th:only-of-type {\n",
       "        vertical-align: middle;\n",
       "    }\n",
       "\n",
       "    .dataframe tbody tr th {\n",
       "        vertical-align: top;\n",
       "    }\n",
       "\n",
       "    .dataframe thead th {\n",
       "        text-align: right;\n",
       "    }\n",
       "</style>\n",
       "<table border=\"1\" class=\"dataframe\">\n",
       "  <thead>\n",
       "    <tr style=\"text-align: right;\">\n",
       "      <th></th>\n",
       "      <th>user_id</th>\n",
       "      <th>price</th>\n",
       "      <th>order_id</th>\n",
       "    </tr>\n",
       "  </thead>\n",
       "  <tbody>\n",
       "    <tr>\n",
       "      <th>0</th>\n",
       "      <td>1</td>\n",
       "      <td>560.43</td>\n",
       "      <td>70</td>\n",
       "    </tr>\n",
       "    <tr>\n",
       "      <th>1</th>\n",
       "      <td>2</td>\n",
       "      <td>2685.71</td>\n",
       "      <td>226</td>\n",
       "    </tr>\n",
       "    <tr>\n",
       "      <th>2</th>\n",
       "      <td>3</td>\n",
       "      <td>994.48</td>\n",
       "      <td>88</td>\n",
       "    </tr>\n",
       "    <tr>\n",
       "      <th>3</th>\n",
       "      <td>4</td>\n",
       "      <td>282.01</td>\n",
       "      <td>18</td>\n",
       "    </tr>\n",
       "    <tr>\n",
       "      <th>4</th>\n",
       "      <td>5</td>\n",
       "      <td>543.37</td>\n",
       "      <td>46</td>\n",
       "    </tr>\n",
       "  </tbody>\n",
       "</table>\n",
       "</div>"
      ],
      "text/plain": [
       "   user_id    price  order_id\n",
       "0        1   560.43        70\n",
       "1        2  2685.71       226\n",
       "2        3   994.48        88\n",
       "3        4   282.01        18\n",
       "4        5   543.37        46"
      ]
     },
     "execution_count": 20,
     "metadata": {},
     "output_type": "execute_result"
    }
   ],
   "source": [
    "client_purchase_df = all_order_train[['user_id', 'price', 'order_id']].drop_duplicates()\\\n",
    "          .groupby(['user_id'], as_index=False)\\\n",
    "          .agg({'price': 'sum', 'order_id': 'count'})\n",
    "\n",
    "client_purchase_df.head()"
   ]
  },
  {
   "cell_type": "code",
   "execution_count": 21,
   "metadata": {},
   "outputs": [
    {
     "data": {
      "text/html": [
       "<div>\n",
       "<style scoped>\n",
       "    .dataframe tbody tr th:only-of-type {\n",
       "        vertical-align: middle;\n",
       "    }\n",
       "\n",
       "    .dataframe tbody tr th {\n",
       "        vertical-align: top;\n",
       "    }\n",
       "\n",
       "    .dataframe thead th {\n",
       "        text-align: right;\n",
       "    }\n",
       "</style>\n",
       "<table border=\"1\" class=\"dataframe\">\n",
       "  <thead>\n",
       "    <tr style=\"text-align: right;\">\n",
       "      <th></th>\n",
       "      <th>user_id</th>\n",
       "      <th>price</th>\n",
       "      <th>order_id</th>\n",
       "      <th>avg_purchase</th>\n",
       "    </tr>\n",
       "  </thead>\n",
       "  <tbody>\n",
       "    <tr>\n",
       "      <th>0</th>\n",
       "      <td>1</td>\n",
       "      <td>560.43</td>\n",
       "      <td>70</td>\n",
       "      <td>8.0061</td>\n",
       "    </tr>\n",
       "    <tr>\n",
       "      <th>1</th>\n",
       "      <td>2</td>\n",
       "      <td>2685.71</td>\n",
       "      <td>226</td>\n",
       "      <td>11.8837</td>\n",
       "    </tr>\n",
       "    <tr>\n",
       "      <th>2</th>\n",
       "      <td>3</td>\n",
       "      <td>994.48</td>\n",
       "      <td>88</td>\n",
       "      <td>11.3009</td>\n",
       "    </tr>\n",
       "    <tr>\n",
       "      <th>3</th>\n",
       "      <td>4</td>\n",
       "      <td>282.01</td>\n",
       "      <td>18</td>\n",
       "      <td>15.6672</td>\n",
       "    </tr>\n",
       "    <tr>\n",
       "      <th>4</th>\n",
       "      <td>5</td>\n",
       "      <td>543.37</td>\n",
       "      <td>46</td>\n",
       "      <td>11.8124</td>\n",
       "    </tr>\n",
       "  </tbody>\n",
       "</table>\n",
       "</div>"
      ],
      "text/plain": [
       "   user_id    price  order_id  avg_purchase\n",
       "0        1   560.43        70        8.0061\n",
       "1        2  2685.71       226       11.8837\n",
       "2        3   994.48        88       11.3009\n",
       "3        4   282.01        18       15.6672\n",
       "4        5   543.37        46       11.8124"
      ]
     },
     "execution_count": 21,
     "metadata": {},
     "output_type": "execute_result"
    }
   ],
   "source": [
    "client_purchase_df['avg_purchase'] = round(client_purchase_df['price']/client_purchase_df['order_id'], 4)\n",
    "\n",
    "client_purchase_df.head()"
   ]
  },
  {
   "cell_type": "code",
   "execution_count": 22,
   "metadata": {},
   "outputs": [
    {
     "data": {
      "text/plain": [
       "{'min': 2.01,\n",
       " '1%': 5.964432,\n",
       " '5%': 7.968640000000001,\n",
       " '15%': 9.576039999999999,\n",
       " '25%': 10.4277,\n",
       " '50%': 11.8533,\n",
       " '75%': 13.2933,\n",
       " '85%': 14.14598,\n",
       " '95%': 15.9362,\n",
       " '99%': 19.205927999999982,\n",
       " 'max': 54.91}"
      ]
     },
     "execution_count": 22,
     "metadata": {},
     "output_type": "execute_result"
    }
   ],
   "source": [
    "get_percentile(client_purchase_df['avg_purchase'])"
   ]
  },
  {
   "cell_type": "markdown",
   "metadata": {},
   "source": [
    "* So the `merchant_match_score` distribution will be similar to this."
   ]
  },
  {
   "cell_type": "code",
   "execution_count": null,
   "metadata": {},
   "outputs": [],
   "source": []
  }
 ],
 "metadata": {
  "kernelspec": {
   "display_name": "Python 3",
   "language": "python",
   "name": "python3"
  },
  "language_info": {
   "codemirror_mode": {
    "name": "ipython",
    "version": 3
   },
   "file_extension": ".py",
   "mimetype": "text/x-python",
   "name": "python",
   "nbconvert_exporter": "python",
   "pygments_lexer": "ipython3",
   "version": "3.7.6"
  }
 },
 "nbformat": 4,
 "nbformat_minor": 4
}
