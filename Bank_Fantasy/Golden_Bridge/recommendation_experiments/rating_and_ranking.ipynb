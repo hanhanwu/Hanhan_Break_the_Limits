{
 "cells": [
  {
   "cell_type": "markdown",
   "metadata": {},
   "source": [
    "# Merchant Rating and Ranking"
   ]
  },
  {
   "cell_type": "code",
   "execution_count": 1,
   "metadata": {},
   "outputs": [],
   "source": [
    "import pandas as pd"
   ]
  },
  {
   "cell_type": "code",
   "execution_count": 11,
   "metadata": {},
   "outputs": [],
   "source": [
    "import ray\n",
    "\n",
    "ray.shutdown()"
   ]
  },
  {
   "cell_type": "code",
   "execution_count": null,
   "metadata": {},
   "outputs": [],
   "source": [
    "ray.init()"
   ]
  },
  {
   "cell_type": "code",
   "execution_count": 2,
   "metadata": {},
   "outputs": [
    {
     "name": "stdout",
     "output_type": "stream",
     "text": [
      "(33720820, 12)\n"
     ]
    },
    {
     "data": {
      "text/html": [
       "<div>\n",
       "<style scoped>\n",
       "    .dataframe tbody tr th:only-of-type {\n",
       "        vertical-align: middle;\n",
       "    }\n",
       "\n",
       "    .dataframe tbody tr th {\n",
       "        vertical-align: top;\n",
       "    }\n",
       "\n",
       "    .dataframe thead th {\n",
       "        text-align: right;\n",
       "    }\n",
       "</style>\n",
       "<table border=\"1\" class=\"dataframe\">\n",
       "  <thead>\n",
       "    <tr style=\"text-align: right;\">\n",
       "      <th></th>\n",
       "      <th>order_id</th>\n",
       "      <th>user_id</th>\n",
       "      <th>order_number</th>\n",
       "      <th>order_hour_of_day</th>\n",
       "      <th>product_id</th>\n",
       "      <th>purchase_date</th>\n",
       "      <th>merchant</th>\n",
       "      <th>product_name</th>\n",
       "      <th>price</th>\n",
       "      <th>aisle</th>\n",
       "      <th>department</th>\n",
       "      <th>week_number</th>\n",
       "    </tr>\n",
       "  </thead>\n",
       "  <tbody>\n",
       "    <tr>\n",
       "      <th>0</th>\n",
       "      <td>2539329</td>\n",
       "      <td>1</td>\n",
       "      <td>1</td>\n",
       "      <td>8</td>\n",
       "      <td>196</td>\n",
       "      <td>2019-02-13</td>\n",
       "      <td>L&amp;M Markets (Hometown Grocers Co-op)</td>\n",
       "      <td>Soda</td>\n",
       "      <td>3.08</td>\n",
       "      <td>soft drinks</td>\n",
       "      <td>beverages</td>\n",
       "      <td>7</td>\n",
       "    </tr>\n",
       "    <tr>\n",
       "      <th>1</th>\n",
       "      <td>2231262</td>\n",
       "      <td>31</td>\n",
       "      <td>17</td>\n",
       "      <td>11</td>\n",
       "      <td>196</td>\n",
       "      <td>2019-03-10</td>\n",
       "      <td>L&amp;M Markets (Hometown Grocers Co-op)</td>\n",
       "      <td>Soda</td>\n",
       "      <td>3.08</td>\n",
       "      <td>soft drinks</td>\n",
       "      <td>beverages</td>\n",
       "      <td>10</td>\n",
       "    </tr>\n",
       "    <tr>\n",
       "      <th>2</th>\n",
       "      <td>3058369</td>\n",
       "      <td>195</td>\n",
       "      <td>34</td>\n",
       "      <td>10</td>\n",
       "      <td>196</td>\n",
       "      <td>2019-02-25</td>\n",
       "      <td>L&amp;M Markets (Hometown Grocers Co-op)</td>\n",
       "      <td>Soda</td>\n",
       "      <td>3.08</td>\n",
       "      <td>soft drinks</td>\n",
       "      <td>beverages</td>\n",
       "      <td>9</td>\n",
       "    </tr>\n",
       "    <tr>\n",
       "      <th>3</th>\n",
       "      <td>2257155</td>\n",
       "      <td>951</td>\n",
       "      <td>3</td>\n",
       "      <td>20</td>\n",
       "      <td>196</td>\n",
       "      <td>2019-03-09</td>\n",
       "      <td>L&amp;M Markets (Hometown Grocers Co-op)</td>\n",
       "      <td>Soda</td>\n",
       "      <td>3.08</td>\n",
       "      <td>soft drinks</td>\n",
       "      <td>beverages</td>\n",
       "      <td>10</td>\n",
       "    </tr>\n",
       "    <tr>\n",
       "      <th>4</th>\n",
       "      <td>1121647</td>\n",
       "      <td>992</td>\n",
       "      <td>7</td>\n",
       "      <td>10</td>\n",
       "      <td>196</td>\n",
       "      <td>2019-03-08</td>\n",
       "      <td>L&amp;M Markets (Hometown Grocers Co-op)</td>\n",
       "      <td>Soda</td>\n",
       "      <td>3.08</td>\n",
       "      <td>soft drinks</td>\n",
       "      <td>beverages</td>\n",
       "      <td>10</td>\n",
       "    </tr>\n",
       "  </tbody>\n",
       "</table>\n",
       "</div>"
      ],
      "text/plain": [
       "   order_id  user_id  order_number  order_hour_of_day  product_id  \\\n",
       "0   2539329        1             1                  8         196   \n",
       "1   2231262       31            17                 11         196   \n",
       "2   3058369      195            34                 10         196   \n",
       "3   2257155      951             3                 20         196   \n",
       "4   1121647      992             7                 10         196   \n",
       "\n",
       "  purchase_date                              merchant product_name  price  \\\n",
       "0    2019-02-13  L&M Markets (Hometown Grocers Co-op)         Soda   3.08   \n",
       "1    2019-03-10  L&M Markets (Hometown Grocers Co-op)         Soda   3.08   \n",
       "2    2019-02-25  L&M Markets (Hometown Grocers Co-op)         Soda   3.08   \n",
       "3    2019-03-09  L&M Markets (Hometown Grocers Co-op)         Soda   3.08   \n",
       "4    2019-03-08  L&M Markets (Hometown Grocers Co-op)         Soda   3.08   \n",
       "\n",
       "         aisle department  week_number  \n",
       "0  soft drinks  beverages            7  \n",
       "1  soft drinks  beverages           10  \n",
       "2  soft drinks  beverages            9  \n",
       "3  soft drinks  beverages           10  \n",
       "4  soft drinks  beverages           10  "
      ]
     },
     "execution_count": 2,
     "metadata": {},
     "output_type": "execute_result"
    }
   ],
   "source": [
    "all_order_train = pd.read_pickle('../all_order_train.pkl')\n",
    "print(all_order_train.shape)\n",
    "\n",
    "all_order_train.head()"
   ]
  },
  {
   "cell_type": "markdown",
   "metadata": {},
   "source": [
    "## Calculate Rating Score\n",
    "\n",
    "* `customer_loyalty = returned customers this period / total customers this period`, [0,1] range\n",
    "* `sales_performance = # of orders above past average sales this period/ # of orders this period`, [0,1] range\n",
    "* `rating = 1 - sqrt((power(1-customer_loyalty, 2) + (power(1-sales_performance, 2))/2)`\n",
    "  * It uses the distance between perfect score 1 and current point"
   ]
  },
  {
   "cell_type": "code",
   "execution_count": null,
   "metadata": {},
   "outputs": [],
   "source": [
    "def get_customer_loyalty(current_week)"
   ]
  },
  {
   "cell_type": "code",
   "execution_count": 10,
   "metadata": {},
   "outputs": [],
   "source": [
    "test_merchant = '49th Parallel Grocery'"
   ]
  }
 ],
 "metadata": {
  "kernelspec": {
   "display_name": "Python 3",
   "language": "python",
   "name": "python3"
  },
  "language_info": {
   "codemirror_mode": {
    "name": "ipython",
    "version": 3
   },
   "file_extension": ".py",
   "mimetype": "text/x-python",
   "name": "python",
   "nbconvert_exporter": "python",
   "pygments_lexer": "ipython3",
   "version": "3.7.6"
  }
 },
 "nbformat": 4,
 "nbformat_minor": 4
}
