{
 "cells": [
  {
   "cell_type": "markdown",
   "metadata": {},
   "source": [
    "# Merchant Rating and Ranking"
   ]
  },
  {
   "cell_type": "code",
   "execution_count": 28,
   "metadata": {},
   "outputs": [],
   "source": [
    "import pandas as pd\n",
    "import numpy as np"
   ]
  },
  {
   "cell_type": "code",
   "execution_count": 11,
   "metadata": {},
   "outputs": [],
   "source": [
    "import ray\n",
    "\n",
    "ray.shutdown()"
   ]
  },
  {
   "cell_type": "code",
   "execution_count": null,
   "metadata": {},
   "outputs": [],
   "source": [
    "ray.init()"
   ]
  },
  {
   "cell_type": "code",
   "execution_count": 2,
   "metadata": {},
   "outputs": [
    {
     "name": "stdout",
     "output_type": "stream",
     "text": [
      "(33720820, 12)\n"
     ]
    },
    {
     "data": {
      "text/html": [
       "<div>\n",
       "<style scoped>\n",
       "    .dataframe tbody tr th:only-of-type {\n",
       "        vertical-align: middle;\n",
       "    }\n",
       "\n",
       "    .dataframe tbody tr th {\n",
       "        vertical-align: top;\n",
       "    }\n",
       "\n",
       "    .dataframe thead th {\n",
       "        text-align: right;\n",
       "    }\n",
       "</style>\n",
       "<table border=\"1\" class=\"dataframe\">\n",
       "  <thead>\n",
       "    <tr style=\"text-align: right;\">\n",
       "      <th></th>\n",
       "      <th>order_id</th>\n",
       "      <th>user_id</th>\n",
       "      <th>order_number</th>\n",
       "      <th>order_hour_of_day</th>\n",
       "      <th>product_id</th>\n",
       "      <th>purchase_date</th>\n",
       "      <th>merchant</th>\n",
       "      <th>product_name</th>\n",
       "      <th>price</th>\n",
       "      <th>aisle</th>\n",
       "      <th>department</th>\n",
       "      <th>week_number</th>\n",
       "    </tr>\n",
       "  </thead>\n",
       "  <tbody>\n",
       "    <tr>\n",
       "      <th>0</th>\n",
       "      <td>2539329</td>\n",
       "      <td>1</td>\n",
       "      <td>1</td>\n",
       "      <td>8</td>\n",
       "      <td>196</td>\n",
       "      <td>2019-02-13</td>\n",
       "      <td>L&amp;M Markets (Hometown Grocers Co-op)</td>\n",
       "      <td>Soda</td>\n",
       "      <td>3.08</td>\n",
       "      <td>soft drinks</td>\n",
       "      <td>beverages</td>\n",
       "      <td>7</td>\n",
       "    </tr>\n",
       "    <tr>\n",
       "      <th>1</th>\n",
       "      <td>2231262</td>\n",
       "      <td>31</td>\n",
       "      <td>17</td>\n",
       "      <td>11</td>\n",
       "      <td>196</td>\n",
       "      <td>2019-03-10</td>\n",
       "      <td>L&amp;M Markets (Hometown Grocers Co-op)</td>\n",
       "      <td>Soda</td>\n",
       "      <td>3.08</td>\n",
       "      <td>soft drinks</td>\n",
       "      <td>beverages</td>\n",
       "      <td>10</td>\n",
       "    </tr>\n",
       "    <tr>\n",
       "      <th>2</th>\n",
       "      <td>3058369</td>\n",
       "      <td>195</td>\n",
       "      <td>34</td>\n",
       "      <td>10</td>\n",
       "      <td>196</td>\n",
       "      <td>2019-02-25</td>\n",
       "      <td>L&amp;M Markets (Hometown Grocers Co-op)</td>\n",
       "      <td>Soda</td>\n",
       "      <td>3.08</td>\n",
       "      <td>soft drinks</td>\n",
       "      <td>beverages</td>\n",
       "      <td>9</td>\n",
       "    </tr>\n",
       "    <tr>\n",
       "      <th>3</th>\n",
       "      <td>2257155</td>\n",
       "      <td>951</td>\n",
       "      <td>3</td>\n",
       "      <td>20</td>\n",
       "      <td>196</td>\n",
       "      <td>2019-03-09</td>\n",
       "      <td>L&amp;M Markets (Hometown Grocers Co-op)</td>\n",
       "      <td>Soda</td>\n",
       "      <td>3.08</td>\n",
       "      <td>soft drinks</td>\n",
       "      <td>beverages</td>\n",
       "      <td>10</td>\n",
       "    </tr>\n",
       "    <tr>\n",
       "      <th>4</th>\n",
       "      <td>1121647</td>\n",
       "      <td>992</td>\n",
       "      <td>7</td>\n",
       "      <td>10</td>\n",
       "      <td>196</td>\n",
       "      <td>2019-03-08</td>\n",
       "      <td>L&amp;M Markets (Hometown Grocers Co-op)</td>\n",
       "      <td>Soda</td>\n",
       "      <td>3.08</td>\n",
       "      <td>soft drinks</td>\n",
       "      <td>beverages</td>\n",
       "      <td>10</td>\n",
       "    </tr>\n",
       "  </tbody>\n",
       "</table>\n",
       "</div>"
      ],
      "text/plain": [
       "   order_id  user_id  order_number  order_hour_of_day  product_id  \\\n",
       "0   2539329        1             1                  8         196   \n",
       "1   2231262       31            17                 11         196   \n",
       "2   3058369      195            34                 10         196   \n",
       "3   2257155      951             3                 20         196   \n",
       "4   1121647      992             7                 10         196   \n",
       "\n",
       "  purchase_date                              merchant product_name  price  \\\n",
       "0    2019-02-13  L&M Markets (Hometown Grocers Co-op)         Soda   3.08   \n",
       "1    2019-03-10  L&M Markets (Hometown Grocers Co-op)         Soda   3.08   \n",
       "2    2019-02-25  L&M Markets (Hometown Grocers Co-op)         Soda   3.08   \n",
       "3    2019-03-09  L&M Markets (Hometown Grocers Co-op)         Soda   3.08   \n",
       "4    2019-03-08  L&M Markets (Hometown Grocers Co-op)         Soda   3.08   \n",
       "\n",
       "         aisle department  week_number  \n",
       "0  soft drinks  beverages            7  \n",
       "1  soft drinks  beverages           10  \n",
       "2  soft drinks  beverages            9  \n",
       "3  soft drinks  beverages           10  \n",
       "4  soft drinks  beverages           10  "
      ]
     },
     "execution_count": 2,
     "metadata": {},
     "output_type": "execute_result"
    }
   ],
   "source": [
    "all_order_train = pd.read_pickle('../all_order_train.pkl')\n",
    "print(all_order_train.shape)\n",
    "\n",
    "all_order_train.head()"
   ]
  },
  {
   "cell_type": "markdown",
   "metadata": {},
   "source": [
    "## Calculate Rating Score\n",
    "\n",
    "* `customer_loyalty = returned customers this period / total customers this period`, [0,1] range\n",
    "* `sales_performance = # of orders above past average sales this period/ # of orders this period`, [0,1] range\n",
    "* `rating = 1 - sqrt((power(1-customer_loyalty, 2) + (power(1-sales_performance, 2))/2)`\n",
    "  * It uses the distance between perfect score 1 and current point"
   ]
  },
  {
   "cell_type": "code",
   "execution_count": 37,
   "metadata": {},
   "outputs": [],
   "source": [
    "@ray.remote\n",
    "def get_customer_loyalty(current_df, current_week, merchant):\n",
    "    past_clients = set(current_df.loc[current_df['week_number'] < current_week]['user_id'].values)\n",
    "    current_clients = set(current_df.loc[current_df['week_number'] == current_week]['user_id'].values)\n",
    "    returned_clients = past_clients.intersection(current_clients)\n",
    "    customer_loyalty = len(returned_clients)/len(current_clients)\n",
    "    \n",
    "    return {'merchant': merchant, 'week_number': current_week, 'customer_loyalty': round(customer_loyalty, 4)}\n",
    "\n",
    "\n",
    "@ray.remote\n",
    "def get_sales_performance(current_df, current_week, merchant):\n",
    "    past_avg_sales = np.mean(current_df.loc[current_df['week_number'] < current_week]['price'].values)\n",
    "    current_sales = current_df.loc[current_df['week_number'] == current_week]['price'].values\n",
    "    above_avg_sales = [v for v in current_sales if v >= past_avg_sales]\n",
    "    sales_performance = len(above_avg_sales)/len(current_sales)\n",
    "    \n",
    "    return {'merchant': merchant, 'week_number': current_week, 'customer_loyalty': round(sales_performance, 4)}"
   ]
  },
  {
   "cell_type": "code",
   "execution_count": null,
   "metadata": {},
   "outputs": [],
   "source": [
    "merchant_lst = all_order_train['merchant'].unique()\n",
    "week_lst = all_order_train['week_number'].unique()\n",
    "week_lst.sort()\n",
    "\n",
    "customer_loyalty_results = [get_customer_loyalty.remote(all_order_train.loc[(all_order_train['merchant']==merchant) \n",
    "                                         & (all_order_train['week_number'] <= current_week)][['user_id', 'week_number']],\n",
    "                                                       current_week, merchant)\n",
    "                           for merchant in merchant_lst\n",
    "                           for current_week in week_lst[1:]]\n",
    "customer_loyalty_lst = ray.get(customer_loyalty_results)"
   ]
  },
  {
   "cell_type": "code",
   "execution_count": null,
   "metadata": {},
   "outputs": [],
   "source": [
    "sales_performance_results = [get_sales_performance.remote(all_order_train.loc[(all_order_train['merchant']==merchant) \n",
    "                                         & (all_order_train['week_number'] <= current_week)][['price', 'week_number']],\n",
    "                                                       current_week, merchant)\n",
    "                           for merchant in merchant_lst\n",
    "                           for current_week in week_lst[1:]]\n",
    "sales_performance_lst = ray.get(customer_loyalty_results)"
   ]
  },
  {
   "cell_type": "code",
   "execution_count": 39,
   "metadata": {},
   "outputs": [
    {
     "data": {
      "text/html": [
       "<div>\n",
       "<style scoped>\n",
       "    .dataframe tbody tr th:only-of-type {\n",
       "        vertical-align: middle;\n",
       "    }\n",
       "\n",
       "    .dataframe tbody tr th {\n",
       "        vertical-align: top;\n",
       "    }\n",
       "\n",
       "    .dataframe thead th {\n",
       "        text-align: right;\n",
       "    }\n",
       "</style>\n",
       "<table border=\"1\" class=\"dataframe\">\n",
       "  <thead>\n",
       "    <tr style=\"text-align: right;\">\n",
       "      <th></th>\n",
       "      <th>merchant</th>\n",
       "      <th>week_number</th>\n",
       "      <th>customer_loyalty</th>\n",
       "    </tr>\n",
       "  </thead>\n",
       "  <tbody>\n",
       "    <tr>\n",
       "      <th>0</th>\n",
       "      <td>L&amp;M Markets (Hometown Grocers Co-op)</td>\n",
       "      <td>7</td>\n",
       "      <td>0.0000</td>\n",
       "    </tr>\n",
       "    <tr>\n",
       "      <th>1</th>\n",
       "      <td>L&amp;M Markets (Hometown Grocers Co-op)</td>\n",
       "      <td>8</td>\n",
       "      <td>0.3653</td>\n",
       "    </tr>\n",
       "    <tr>\n",
       "      <th>2</th>\n",
       "      <td>Fairway Markets</td>\n",
       "      <td>7</td>\n",
       "      <td>0.0000</td>\n",
       "    </tr>\n",
       "    <tr>\n",
       "      <th>3</th>\n",
       "      <td>Fairway Markets</td>\n",
       "      <td>8</td>\n",
       "      <td>0.4971</td>\n",
       "    </tr>\n",
       "  </tbody>\n",
       "</table>\n",
       "</div>"
      ],
      "text/plain": [
       "                               merchant  week_number  customer_loyalty\n",
       "0  L&M Markets (Hometown Grocers Co-op)            7            0.0000\n",
       "1  L&M Markets (Hometown Grocers Co-op)            8            0.3653\n",
       "2                       Fairway Markets            7            0.0000\n",
       "3                       Fairway Markets            8            0.4971"
      ]
     },
     "execution_count": 39,
     "metadata": {},
     "output_type": "execute_result"
    }
   ],
   "source": [
    "customer_loyalty_df = pd.DataFrame(customer_loyalty_lst)\n",
    "sales_performance_df = pd.DataFrame(sales_performance_lst)"
   ]
  },
  {
   "cell_type": "code",
   "execution_count": 29,
   "metadata": {},
   "outputs": [
    {
     "data": {
      "text/plain": [
       "13.736560830358965"
      ]
     },
     "execution_count": 29,
     "metadata": {},
     "output_type": "execute_result"
    }
   ],
   "source": [
    "results = [get_merchant_data.remote(all_order_train.loc[all_order_train['merchant']==merchant][['merchant', 'product_id', 'order_id']]) \n",
    "           for merchant in merchant_lst]\n",
    "merchant_data_lst = ray.get(results)"
   ]
  },
  {
   "cell_type": "code",
   "execution_count": null,
   "metadata": {},
   "outputs": [],
   "source": [
    "\n",
    "for merchant in merchant_lst:\n",
    "    for current_week in week_lst[1:]:\n",
    "        current_df = all_order_train.loc[(all_order_train['merchant']==merchant) \n",
    "                                         & (all_order_train['week_number'] <= current_week)][['user_id', 'price', 'week_number']]\n",
    "        print(get_customer_loyalty(current_df, current_week))\n",
    "        print(get_sales_performance(current_df, current_week))\n",
    "        break\n",
    "    break"
   ]
  }
 ],
 "metadata": {
  "kernelspec": {
   "display_name": "Python 3",
   "language": "python",
   "name": "python3"
  },
  "language_info": {
   "codemirror_mode": {
    "name": "ipython",
    "version": 3
   },
   "file_extension": ".py",
   "mimetype": "text/x-python",
   "name": "python",
   "nbconvert_exporter": "python",
   "pygments_lexer": "ipython3",
   "version": "3.7.6"
  }
 },
 "nbformat": 4,
 "nbformat_minor": 4
}
