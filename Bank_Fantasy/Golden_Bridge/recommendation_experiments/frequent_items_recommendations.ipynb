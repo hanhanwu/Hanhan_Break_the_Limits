{
 "cells": [
  {
   "cell_type": "markdown",
   "metadata": {},
   "source": [
    "# Frequent Items Recommendations\n",
    "\n",
    "Get the frequent item sets in the latest N weeks, recommend the missing frequent items to merchants"
   ]
  },
  {
   "cell_type": "code",
   "execution_count": 18,
   "metadata": {},
   "outputs": [],
   "source": [
    "from pyspark.ml.fpm import PrefixSpan\n",
    "from pyspark.context import SparkContext\n",
    "from pyspark.sql.session import SparkSession\n",
    "from pyspark.sql.functions import col\n",
    "from pyspark.sql import Row\n",
    "import pandas as pd\n",
    "import numpy as np\n",
    "import datetime\n",
    "\n",
    "import warnings\n",
    "warnings.filterwarnings(\"ignore\")\n",
    "\n",
    "sc = SparkContext('local[2]', appName='local')  # local n specifies n threads\n",
    "spark = SparkSession(sc) "
   ]
  },
  {
   "cell_type": "code",
   "execution_count": 25,
   "metadata": {},
   "outputs": [
    {
     "name": "stdout",
     "output_type": "stream",
     "text": [
      "(33720820, 12)\n"
     ]
    },
    {
     "data": {
      "text/html": [
       "<div>\n",
       "<style scoped>\n",
       "    .dataframe tbody tr th:only-of-type {\n",
       "        vertical-align: middle;\n",
       "    }\n",
       "\n",
       "    .dataframe tbody tr th {\n",
       "        vertical-align: top;\n",
       "    }\n",
       "\n",
       "    .dataframe thead th {\n",
       "        text-align: right;\n",
       "    }\n",
       "</style>\n",
       "<table border=\"1\" class=\"dataframe\">\n",
       "  <thead>\n",
       "    <tr style=\"text-align: right;\">\n",
       "      <th></th>\n",
       "      <th>order_id</th>\n",
       "      <th>user_id</th>\n",
       "      <th>order_number</th>\n",
       "      <th>order_hour_of_day</th>\n",
       "      <th>product_id</th>\n",
       "      <th>purchase_date</th>\n",
       "      <th>merchant</th>\n",
       "      <th>product_name</th>\n",
       "      <th>price</th>\n",
       "      <th>aisle</th>\n",
       "      <th>department</th>\n",
       "      <th>week_number</th>\n",
       "    </tr>\n",
       "  </thead>\n",
       "  <tbody>\n",
       "    <tr>\n",
       "      <th>0</th>\n",
       "      <td>2539329</td>\n",
       "      <td>1</td>\n",
       "      <td>1</td>\n",
       "      <td>8</td>\n",
       "      <td>196</td>\n",
       "      <td>2019-02-13</td>\n",
       "      <td>L&amp;M Markets (Hometown Grocers Co-op)</td>\n",
       "      <td>Soda</td>\n",
       "      <td>3.08</td>\n",
       "      <td>soft drinks</td>\n",
       "      <td>beverages</td>\n",
       "      <td>7</td>\n",
       "    </tr>\n",
       "    <tr>\n",
       "      <th>1</th>\n",
       "      <td>2231262</td>\n",
       "      <td>31</td>\n",
       "      <td>17</td>\n",
       "      <td>11</td>\n",
       "      <td>196</td>\n",
       "      <td>2019-03-10</td>\n",
       "      <td>L&amp;M Markets (Hometown Grocers Co-op)</td>\n",
       "      <td>Soda</td>\n",
       "      <td>3.08</td>\n",
       "      <td>soft drinks</td>\n",
       "      <td>beverages</td>\n",
       "      <td>10</td>\n",
       "    </tr>\n",
       "    <tr>\n",
       "      <th>2</th>\n",
       "      <td>3058369</td>\n",
       "      <td>195</td>\n",
       "      <td>34</td>\n",
       "      <td>10</td>\n",
       "      <td>196</td>\n",
       "      <td>2019-02-25</td>\n",
       "      <td>L&amp;M Markets (Hometown Grocers Co-op)</td>\n",
       "      <td>Soda</td>\n",
       "      <td>3.08</td>\n",
       "      <td>soft drinks</td>\n",
       "      <td>beverages</td>\n",
       "      <td>9</td>\n",
       "    </tr>\n",
       "    <tr>\n",
       "      <th>3</th>\n",
       "      <td>2257155</td>\n",
       "      <td>951</td>\n",
       "      <td>3</td>\n",
       "      <td>20</td>\n",
       "      <td>196</td>\n",
       "      <td>2019-03-09</td>\n",
       "      <td>L&amp;M Markets (Hometown Grocers Co-op)</td>\n",
       "      <td>Soda</td>\n",
       "      <td>3.08</td>\n",
       "      <td>soft drinks</td>\n",
       "      <td>beverages</td>\n",
       "      <td>10</td>\n",
       "    </tr>\n",
       "    <tr>\n",
       "      <th>4</th>\n",
       "      <td>1121647</td>\n",
       "      <td>992</td>\n",
       "      <td>7</td>\n",
       "      <td>10</td>\n",
       "      <td>196</td>\n",
       "      <td>2019-03-08</td>\n",
       "      <td>L&amp;M Markets (Hometown Grocers Co-op)</td>\n",
       "      <td>Soda</td>\n",
       "      <td>3.08</td>\n",
       "      <td>soft drinks</td>\n",
       "      <td>beverages</td>\n",
       "      <td>10</td>\n",
       "    </tr>\n",
       "  </tbody>\n",
       "</table>\n",
       "</div>"
      ],
      "text/plain": [
       "   order_id  user_id  order_number  order_hour_of_day  product_id  \\\n",
       "0   2539329        1             1                  8         196   \n",
       "1   2231262       31            17                 11         196   \n",
       "2   3058369      195            34                 10         196   \n",
       "3   2257155      951             3                 20         196   \n",
       "4   1121647      992             7                 10         196   \n",
       "\n",
       "  purchase_date                              merchant product_name  price  \\\n",
       "0    2019-02-13  L&M Markets (Hometown Grocers Co-op)         Soda   3.08   \n",
       "1    2019-03-10  L&M Markets (Hometown Grocers Co-op)         Soda   3.08   \n",
       "2    2019-02-25  L&M Markets (Hometown Grocers Co-op)         Soda   3.08   \n",
       "3    2019-03-09  L&M Markets (Hometown Grocers Co-op)         Soda   3.08   \n",
       "4    2019-03-08  L&M Markets (Hometown Grocers Co-op)         Soda   3.08   \n",
       "\n",
       "         aisle department  week_number  \n",
       "0  soft drinks  beverages            7  \n",
       "1  soft drinks  beverages           10  \n",
       "2  soft drinks  beverages            9  \n",
       "3  soft drinks  beverages           10  \n",
       "4  soft drinks  beverages           10  "
      ]
     },
     "execution_count": 25,
     "metadata": {},
     "output_type": "execute_result"
    }
   ],
   "source": [
    "all_order_train = pd.read_pickle('../all_order_train.pkl')\n",
    "print(all_order_train.shape)\n",
    "\n",
    "all_order_train.head()"
   ]
  },
  {
   "cell_type": "code",
   "execution_count": 26,
   "metadata": {},
   "outputs": [
    {
     "name": "stdout",
     "output_type": "stream",
     "text": [
      "3336195\n",
      "49685\n",
      "134\n"
     ]
    }
   ],
   "source": [
    "print(all_order_train['order_id'].nunique())\n",
    "print(all_order_train['product_id'].nunique())\n",
    "print(all_order_train['aisle'].nunique())"
   ]
  },
  {
   "cell_type": "code",
   "execution_count": 11,
   "metadata": {},
   "outputs": [
    {
     "name": "stdout",
     "output_type": "stream",
     "text": [
      "(3336195, 2)\n"
     ]
    },
    {
     "data": {
      "text/html": [
       "<div>\n",
       "<style scoped>\n",
       "    .dataframe tbody tr th:only-of-type {\n",
       "        vertical-align: middle;\n",
       "    }\n",
       "\n",
       "    .dataframe tbody tr th {\n",
       "        vertical-align: top;\n",
       "    }\n",
       "\n",
       "    .dataframe thead th {\n",
       "        text-align: right;\n",
       "    }\n",
       "</style>\n",
       "<table border=\"1\" class=\"dataframe\">\n",
       "  <thead>\n",
       "    <tr style=\"text-align: right;\">\n",
       "      <th></th>\n",
       "      <th>order_id</th>\n",
       "      <th>prod_lst</th>\n",
       "    </tr>\n",
       "  </thead>\n",
       "  <tbody>\n",
       "    <tr>\n",
       "      <th>0</th>\n",
       "      <td>1</td>\n",
       "      <td>[13176, 47209, 49683, 10246, 22035, 11109, 436...</td>\n",
       "    </tr>\n",
       "    <tr>\n",
       "      <th>1</th>\n",
       "      <td>2</td>\n",
       "      <td>[28985, 45918, 17794, 33120, 30035, 40141, 181...</td>\n",
       "    </tr>\n",
       "    <tr>\n",
       "      <th>2</th>\n",
       "      <td>3</td>\n",
       "      <td>[21903, 33754, 17461, 24838, 46667, 32665, 176...</td>\n",
       "    </tr>\n",
       "    <tr>\n",
       "      <th>3</th>\n",
       "      <td>4</td>\n",
       "      <td>[25146, 32645, 41276, 27761, 46842, 22598, 402...</td>\n",
       "    </tr>\n",
       "    <tr>\n",
       "      <th>4</th>\n",
       "      <td>5</td>\n",
       "      <td>[13176, 47209, 27966, 38693, 23909, 6184, 6348...</td>\n",
       "    </tr>\n",
       "  </tbody>\n",
       "</table>\n",
       "</div>"
      ],
      "text/plain": [
       "   order_id                                           prod_lst\n",
       "0         1  [13176, 47209, 49683, 10246, 22035, 11109, 436...\n",
       "1         2  [28985, 45918, 17794, 33120, 30035, 40141, 181...\n",
       "2         3  [21903, 33754, 17461, 24838, 46667, 32665, 176...\n",
       "3         4  [25146, 32645, 41276, 27761, 46842, 22598, 402...\n",
       "4         5  [13176, 47209, 27966, 38693, 23909, 6184, 6348..."
      ]
     },
     "execution_count": 11,
     "metadata": {},
     "output_type": "execute_result"
    }
   ],
   "source": [
    "order_prodlst_df = all_order_train.groupby('order_id')['product_id'].apply(list).reset_index(name='prod_lst')\n",
    "print(order_prodlst_df.shape)\n",
    "\n",
    "order_prodlst_df.head()"
   ]
  },
  {
   "cell_type": "code",
   "execution_count": 15,
   "metadata": {},
   "outputs": [
    {
     "name": "stdout",
     "output_type": "stream",
     "text": [
      "(49685, 2)\n"
     ]
    },
    {
     "data": {
      "text/html": [
       "<div>\n",
       "<style scoped>\n",
       "    .dataframe tbody tr th:only-of-type {\n",
       "        vertical-align: middle;\n",
       "    }\n",
       "\n",
       "    .dataframe tbody tr th {\n",
       "        vertical-align: top;\n",
       "    }\n",
       "\n",
       "    .dataframe thead th {\n",
       "        text-align: right;\n",
       "    }\n",
       "</style>\n",
       "<table border=\"1\" class=\"dataframe\">\n",
       "  <thead>\n",
       "    <tr style=\"text-align: right;\">\n",
       "      <th></th>\n",
       "      <th>product_id</th>\n",
       "      <th>product_name</th>\n",
       "    </tr>\n",
       "  </thead>\n",
       "  <tbody>\n",
       "    <tr>\n",
       "      <th>0</th>\n",
       "      <td>196</td>\n",
       "      <td>Soda</td>\n",
       "    </tr>\n",
       "    <tr>\n",
       "      <th>662</th>\n",
       "      <td>14084</td>\n",
       "      <td>Organic Unsweetened Vanilla Almond Milk</td>\n",
       "    </tr>\n",
       "    <tr>\n",
       "      <th>956</th>\n",
       "      <td>12427</td>\n",
       "      <td>Original Beef Jerky</td>\n",
       "    </tr>\n",
       "    <tr>\n",
       "      <th>1093</th>\n",
       "      <td>26088</td>\n",
       "      <td>Aged White Cheddar Popcorn</td>\n",
       "    </tr>\n",
       "    <tr>\n",
       "      <th>1140</th>\n",
       "      <td>26405</td>\n",
       "      <td>XL Pick-A-Size Paper Towel Rolls</td>\n",
       "    </tr>\n",
       "  </tbody>\n",
       "</table>\n",
       "</div>"
      ],
      "text/plain": [
       "      product_id                             product_name\n",
       "0            196                                     Soda\n",
       "662        14084  Organic Unsweetened Vanilla Almond Milk\n",
       "956        12427                      Original Beef Jerky\n",
       "1093       26088               Aged White Cheddar Popcorn\n",
       "1140       26405         XL Pick-A-Size Paper Towel Rolls"
      ]
     },
     "execution_count": 15,
     "metadata": {},
     "output_type": "execute_result"
    }
   ],
   "source": [
    "prod_df = all_order_train[['product_id', 'product_name']].drop_duplicates()\n",
    "print(prod_df.shape)\n",
    "\n",
    "prod_df.head()"
   ]
  },
  {
   "cell_type": "code",
   "execution_count": 31,
   "metadata": {},
   "outputs": [
    {
     "name": "stdout",
     "output_type": "stream",
     "text": [
      "(3336195, 2)\n"
     ]
    },
    {
     "data": {
      "text/html": [
       "<div>\n",
       "<style scoped>\n",
       "    .dataframe tbody tr th:only-of-type {\n",
       "        vertical-align: middle;\n",
       "    }\n",
       "\n",
       "    .dataframe tbody tr th {\n",
       "        vertical-align: top;\n",
       "    }\n",
       "\n",
       "    .dataframe thead th {\n",
       "        text-align: right;\n",
       "    }\n",
       "</style>\n",
       "<table border=\"1\" class=\"dataframe\">\n",
       "  <thead>\n",
       "    <tr style=\"text-align: right;\">\n",
       "      <th></th>\n",
       "      <th>order_id</th>\n",
       "      <th>aisle_set</th>\n",
       "    </tr>\n",
       "  </thead>\n",
       "  <tbody>\n",
       "    <tr>\n",
       "      <th>0</th>\n",
       "      <td>1</td>\n",
       "      <td>[other creams cheeses, yogurt, packaged cheese...</td>\n",
       "    </tr>\n",
       "    <tr>\n",
       "      <th>1</th>\n",
       "      <td>2</td>\n",
       "      <td>[spices seasonings, baking ingredients, packag...</td>\n",
       "    </tr>\n",
       "    <tr>\n",
       "      <th>2</th>\n",
       "      <td>3</td>\n",
       "      <td>[yogurt, packaged vegetables fruits, poultry c...</td>\n",
       "    </tr>\n",
       "    <tr>\n",
       "      <th>3</th>\n",
       "      <td>4</td>\n",
       "      <td>[cold flu allergy, breakfast bars pastries, en...</td>\n",
       "    </tr>\n",
       "    <tr>\n",
       "      <th>4</th>\n",
       "      <td>5</td>\n",
       "      <td>[paper goods, instant foods, packaged poultry,...</td>\n",
       "    </tr>\n",
       "  </tbody>\n",
       "</table>\n",
       "</div>"
      ],
      "text/plain": [
       "   order_id                                          aisle_set\n",
       "0         1  [other creams cheeses, yogurt, packaged cheese...\n",
       "1         2  [spices seasonings, baking ingredients, packag...\n",
       "2         3  [yogurt, packaged vegetables fruits, poultry c...\n",
       "3         4  [cold flu allergy, breakfast bars pastries, en...\n",
       "4         5  [paper goods, instant foods, packaged poultry,..."
      ]
     },
     "execution_count": 31,
     "metadata": {},
     "output_type": "execute_result"
    }
   ],
   "source": [
    "order_aisleset_df = all_order_train.groupby('order_id')['aisle'].apply(set).apply(list).reset_index(name='aisle_set')\n",
    "print(order_aisleset_df.shape)\n",
    "\n",
    "order_aisleset_df.head()"
   ]
  },
  {
   "cell_type": "code",
   "execution_count": 32,
   "metadata": {},
   "outputs": [],
   "source": [
    "# order_prodlst_df.to_pickle('order_prodlst_df.pkl')\n",
    "# prod_df.to_pickle('prod_df.pkl')\n",
    "order_aisleset_df.to_pickle('order_aisleset_df.pkl')"
   ]
  },
  {
   "cell_type": "markdown",
   "metadata": {},
   "source": [
    "### FP-Growth\n",
    "\n",
    "#### Frequent Pattern with Product ID"
   ]
  },
  {
   "cell_type": "code",
   "execution_count": 3,
   "metadata": {},
   "outputs": [
    {
     "name": "stdout",
     "output_type": "stream",
     "text": [
      "+--------+--------------------+\n",
      "|order_id|            prod_lst|\n",
      "+--------+--------------------+\n",
      "|       1|[13176, 47209, 49...|\n",
      "|       2|[28985, 45918, 17...|\n",
      "|       3|[21903, 33754, 17...|\n",
      "|       4|[25146, 32645, 41...|\n",
      "|       5|[13176, 47209, 27...|\n",
      "|       6|[40462, 15873, 41...|\n",
      "|       7|      [46802, 34050]|\n",
      "|       8|             [23423]|\n",
      "|       9|[23288, 2014, 183...|\n",
      "|      10|[47766, 24852, 21...|\n",
      "|      11|[31506, 5994, 131...|\n",
      "|      12|[43511, 37215, 34...|\n",
      "|      13|[196, 33198, 2578...|\n",
      "|      14|[27845, 45066, 24...|\n",
      "|      15|[19660, 21195, 74...|\n",
      "|      16|[45437, 25466, 9755]|\n",
      "|      18|[34969, 47766, 52...|\n",
      "|      19|[42265, 24838, 41...|\n",
      "|      20|[24852, 35430, 33...|\n",
      "|      21|[25718, 4149, 314...|\n",
      "+--------+--------------------+\n",
      "only showing top 20 rows\n",
      "\n"
     ]
    }
   ],
   "source": [
    "from pyspark.ml.fpm import FPGrowth\n",
    "\n",
    "fp_df = spark.createDataFrame(order_prodlst_df)\n",
    "\n",
    "fp_df.show()"
   ]
  },
  {
   "cell_type": "code",
   "execution_count": 11,
   "metadata": {},
   "outputs": [
    {
     "name": "stdout",
     "output_type": "stream",
     "text": [
      "+-------+------+\n",
      "|  items|  freq|\n",
      "+-------+------+\n",
      "|[24852]|490017|\n",
      "|[13176]|394028|\n",
      "+-------+------+\n",
      "\n"
     ]
    }
   ],
   "source": [
    "fpGrowth = FPGrowth(itemsCol=\"prod_lst\", minSupport=0.1, minConfidence=0.2)\n",
    "model = fpGrowth.fit(fp_df)\n",
    "\n",
    "# Display frequent itemsets.\n",
    "model.freqItemsets.show()"
   ]
  },
  {
   "cell_type": "code",
   "execution_count": 12,
   "metadata": {},
   "outputs": [
    {
     "name": "stdout",
     "output_type": "stream",
     "text": [
      "+----------+----------+----------+----+\n",
      "|antecedent|consequent|confidence|lift|\n",
      "+----------+----------+----------+----+\n",
      "+----------+----------+----------+----+\n",
      "\n"
     ]
    }
   ],
   "source": [
    "model.associationRules.show()"
   ]
  },
  {
   "cell_type": "code",
   "execution_count": 21,
   "metadata": {},
   "outputs": [
    {
     "name": "stdout",
     "output_type": "stream",
     "text": [
      "+--------+--------------------+----------+\n",
      "|order_id|            prod_lst|prediction|\n",
      "+--------+--------------------+----------+\n",
      "|       1|[13176, 47209, 49...|        []|\n",
      "|       2|[28985, 45918, 17...|        []|\n",
      "|       3|[21903, 33754, 17...|        []|\n",
      "|       4|[25146, 32645, 41...|        []|\n",
      "|       5|[13176, 47209, 27...|        []|\n",
      "|       6|[40462, 15873, 41...|        []|\n",
      "|       7|      [46802, 34050]|        []|\n",
      "|       8|             [23423]|        []|\n",
      "|       9|[23288, 2014, 183...|        []|\n",
      "|      10|[47766, 24852, 21...|        []|\n",
      "|      11|[31506, 5994, 131...|        []|\n",
      "|      12|[43511, 37215, 34...|        []|\n",
      "|      13|[196, 33198, 2578...|        []|\n",
      "|      14|[27845, 45066, 24...|        []|\n",
      "|      15|[19660, 21195, 74...|        []|\n",
      "|      16|[45437, 25466, 9755]|        []|\n",
      "|      18|[34969, 47766, 52...|        []|\n",
      "|      19|[42265, 24838, 41...|        []|\n",
      "|      20|[24852, 35430, 33...|        []|\n",
      "|      21|[25718, 4149, 314...|        []|\n",
      "+--------+--------------------+----------+\n",
      "only showing top 20 rows\n",
      "\n"
     ]
    }
   ],
   "source": [
    "# transform examines the input items against all the association rules and summarize the consequents as prediction\n",
    "model.transform(fp_df).sort(col('prediction').desc()).show()"
   ]
  },
  {
   "cell_type": "markdown",
   "metadata": {},
   "source": [
    "No matter it's ascending or descending, there is no prediction results. And the thresholds of support and confidence are too low, otherwise there is even no frequent items."
   ]
  },
  {
   "cell_type": "markdown",
   "metadata": {},
   "source": [
    "#### Frequent Pattern with Product Aisle"
   ]
  },
  {
   "cell_type": "code",
   "execution_count": 34,
   "metadata": {},
   "outputs": [
    {
     "name": "stdout",
     "output_type": "stream",
     "text": [
      "+--------+--------------------+\n",
      "|order_id|           aisle_set|\n",
      "+--------+--------------------+\n",
      "|       1|[other creams che...|\n",
      "|       2|[spices seasoning...|\n",
      "|       3|[yogurt, packaged...|\n",
      "|       4|[cold flu allergy...|\n",
      "|       5|[paper goods, ins...|\n",
      "|       6|[laundry, air fre...|\n",
      "|       7|[frozen produce, ...|\n",
      "|       8|        [buns rolls]|\n",
      "|       9|[yogurt, packaged...|\n",
      "|      10|[canned meals bea...|\n",
      "|      11|[canned meals bea...|\n",
      "|      12|[milk, frozen app...|\n",
      "|      13|[other creams che...|\n",
      "|      14|[milk, frozen bre...|\n",
      "|      15|[oils vinegars, s...|\n",
      "|      16|[popcorn jerky, c...|\n",
      "|      18|[milk, paper good...|\n",
      "|      19|[packaged vegetab...|\n",
      "|      20|[frozen breakfast...|\n",
      "|      21|[fresh fruits, to...|\n",
      "+--------+--------------------+\n",
      "only showing top 20 rows\n",
      "\n"
     ]
    }
   ],
   "source": [
    "fp_df = spark.createDataFrame(order_aisleset_df)\n",
    "\n",
    "fp_df.show()"
   ]
  },
  {
   "cell_type": "code",
   "execution_count": 37,
   "metadata": {},
   "outputs": [
    {
     "name": "stdout",
     "output_type": "stream",
     "text": [
      "+--------------------+-------+\n",
      "|               items|   freq|\n",
      "+--------------------+-------+\n",
      "|[packaged vegetab...|1226107|\n",
      "|      [fresh fruits]|1857917|\n",
      "|  [fresh vegetables]|1482470|\n",
      "|[fresh vegetables...|1061493|\n",
      "+--------------------+-------+\n",
      "\n"
     ]
    }
   ],
   "source": [
    "fpGrowth = FPGrowth(itemsCol=\"aisle_set\", minSupport=0.3, minConfidence=0.3)\n",
    "model = fpGrowth.fit(fp_df)\n",
    "\n",
    "# Display frequent itemsets.\n",
    "model.freqItemsets.show()"
   ]
  },
  {
   "cell_type": "code",
   "execution_count": 38,
   "metadata": {},
   "outputs": [
    {
     "name": "stdout",
     "output_type": "stream",
     "text": [
      "+------------------+------------------+------------------+------------------+\n",
      "|        antecedent|        consequent|        confidence|              lift|\n",
      "+------------------+------------------+------------------+------------------+\n",
      "|    [fresh fruits]|[fresh vegetables]|0.5713349950509091|1.2857494275188488|\n",
      "|[fresh vegetables]|    [fresh fruits]|0.7160300039798444|1.2857494275188488|\n",
      "+------------------+------------------+------------------+------------------+\n",
      "\n"
     ]
    }
   ],
   "source": [
    "model.associationRules.show()"
   ]
  },
  {
   "cell_type": "code",
   "execution_count": 42,
   "metadata": {},
   "outputs": [
    {
     "name": "stdout",
     "output_type": "stream",
     "text": [
      "+--------+--------------------------------------------------------------------------------------------------------------------------------------------------------------------------------------------------------------------------------------------------------------------+------------------+\n",
      "|order_id|aisle_set                                                                                                                                                                                                                                                           |prediction        |\n",
      "+--------+--------------------------------------------------------------------------------------------------------------------------------------------------------------------------------------------------------------------------------------------------------------------+------------------+\n",
      "|78      |[milk, fresh dips tapenades, packaged cheese, crackers, fresh fruits]                                                                                                                                                                                               |[fresh vegetables]|\n",
      "|184     |[yogurt, baking ingredients, packaged vegetables fruits, cream, refrigerated, doughs gelatins bake mixes, fresh fruits]                                                                                                                                             |[fresh vegetables]|\n",
      "|79      |[milk, other, tea, cleaning products, fresh fruits]                                                                                                                                                                                                                 |[fresh vegetables]|\n",
      "|14      |[milk, frozen breakfast, frozen appetizers sides, cereal, yogurt, coffee, frozen breads doughs, packaged cheese, asian foods, frozen produce, fresh fruits]                                                                                                         |[fresh vegetables]|\n",
      "|82      |[milk, ice cream toppings, canned jarred vegetables, hot dogs bacon sausage, fresh fruits]                                                                                                                                                                          |[fresh vegetables]|\n",
      "|42      |[butter, soy lactosefree, fresh fruits]                                                                                                                                                                                                                             |[fresh vegetables]|\n",
      "|85      |[paper goods, plates bowls cups flatware, packaged produce, baking ingredients, coffee, kitchen supplies, fresh fruits, candy chocolate]                                                                                                                            |[fresh vegetables]|\n",
      "|47      |[packaged vegetables fruits, hot dogs bacon sausage, fresh fruits, packaged produce]                                                                                                                                                                                |[fresh vegetables]|\n",
      "|87      |[deodorants, latino foods, spices seasonings, packaged vegetables fruits, energy sports drinks, water seltzer sparkling water, packaged poultry, salad dressing toppings, crackers, dish detergents, fresh fruits, chips pretzels]                                  |[fresh vegetables]|\n",
      "|53      |[yogurt, packaged vegetables fruits, tofu meat alternatives, fruit vegetable snacks, packaged cheese, tortillas flat bread, bread, fresh fruits]                                                                                                                    |[fresh vegetables]|\n",
      "|101     |[dry pasta, packaged vegetables fruits, chips pretzels, water seltzer sparkling water, tea, salad dressing toppings, popcorn jerky, soy lactosefree, fresh fruits, canned meat seafood]                                                                             |[fresh vegetables]|\n",
      "|57      |[water seltzer sparkling water, packaged vegetables fruits, fresh fruits, breakfast bakery]                                                                                                                                                                         |[fresh vegetables]|\n",
      "|104     |[lunch meat, packaged vegetables fruits, fresh fruits, yogurt]                                                                                                                                                                                                      |[fresh vegetables]|\n",
      "|61      |[milk, cereal, yogurt, packaged produce, packaged vegetables fruits, cream, soy lactosefree, fresh fruits, chips pretzels]                                                                                                                                          |[fresh vegetables]|\n",
      "|105     |[milk, instant foods, yogurt, packaged vegetables fruits, fruit vegetable snacks, water seltzer sparkling water, ice cream ice, eggs, fresh fruits, canned fruit applesauce]                                                                                        |[fresh vegetables]|\n",
      "|68      |[yogurt, packaged produce, tea, water seltzer sparkling water, salad dressing toppings, muscles joints pain relief, fresh fruits, soft drinks]                                                                                                                      |[fresh vegetables]|\n",
      "|109     |[paper goods, other, coffee, refrigerated, water seltzer sparkling water, feminine care, lunch meat, packaged cheese, salad dressing toppings, bakery desserts, soup broth bouillon, butter, cleaning products, fresh fruits, chips pretzels, prepared soups salads]|[fresh vegetables]|\n",
      "|136     |[nuts seeds dried fruit, fresh fruits, other creams cheeses, eggs]                                                                                                                                                                                                  |[fresh vegetables]|\n",
      "|181     |[canned meals beans, baking ingredients, canned jarred vegetables, soup broth bouillon, soy lactosefree, frozen produce, fresh fruits]                                                                                                                              |[fresh vegetables]|\n",
      "|146     |[packaged produce, breakfast bars pastries, fruit vegetable snacks, water seltzer sparkling water, packaged cheese, crackers, energy granola bars, fresh fruits, trail mix snack mix]                                                                               |[fresh vegetables]|\n",
      "+--------+--------------------------------------------------------------------------------------------------------------------------------------------------------------------------------------------------------------------------------------------------------------------+------------------+\n",
      "only showing top 20 rows\n",
      "\n"
     ]
    }
   ],
   "source": [
    "model.transform(fp_df).sort(col('prediction').desc()).show(truncate=False)"
   ]
  },
  {
   "cell_type": "markdown",
   "metadata": {},
   "source": [
    "Notes\n",
    "\n",
    "* So when using FP-growth, even using aisle, at most it tells you fresh vegetables should be put together with fresh fruits. This makes sense, but almost all the stores are doing this..."
   ]
  },
  {
   "cell_type": "markdown",
   "metadata": {},
   "source": [
    "### PrefixSPAN\n",
    "\n",
    "#### Frequent Pattern with Product ID"
   ]
  },
  {
   "cell_type": "code",
   "execution_count": 46,
   "metadata": {},
   "outputs": [
    {
     "name": "stdout",
     "output_type": "stream",
     "text": [
      "3336195\n"
     ]
    },
    {
     "data": {
      "text/plain": [
       "[Row(sequence=[[23423]]),\n",
       " Row(sequence=[[23288, 2014, 18362, 21405, 432, 31506, 14992, 44533, 3990, 14183, 47890, 11182, 34203, 29193, 27366]])]"
      ]
     },
     "execution_count": 46,
     "metadata": {},
     "output_type": "execute_result"
    }
   ],
   "source": [
    "all_prodlst = [Row(sequence=[prod_lst]) for prod_lst in order_prodlst_df['prod_lst'].values]\n",
    "print(len(all_prodlst))\n",
    "\n",
    "all_prodlst[7:9]"
   ]
  },
  {
   "cell_type": "code",
   "execution_count": 47,
   "metadata": {},
   "outputs": [
    {
     "name": "stdout",
     "output_type": "stream",
     "text": [
      "+--------------------+\n",
      "|            sequence|\n",
      "+--------------------+\n",
      "|[[13176, 47209, 4...|\n",
      "|[[28985, 45918, 1...|\n",
      "|[[21903, 33754, 1...|\n",
      "|[[25146, 32645, 4...|\n",
      "|[[13176, 47209, 2...|\n",
      "|[[40462, 15873, 4...|\n",
      "|    [[46802, 34050]]|\n",
      "|           [[23423]]|\n",
      "|[[23288, 2014, 18...|\n",
      "|[[47766, 24852, 2...|\n",
      "|[[31506, 5994, 13...|\n",
      "|[[43511, 37215, 3...|\n",
      "|[[196, 33198, 257...|\n",
      "|[[27845, 45066, 2...|\n",
      "|[[19660, 21195, 7...|\n",
      "|[[45437, 25466, 9...|\n",
      "|[[34969, 47766, 5...|\n",
      "|[[42265, 24838, 4...|\n",
      "|[[24852, 35430, 3...|\n",
      "|[[25718, 4149, 31...|\n",
      "+--------------------+\n",
      "only showing top 20 rows\n",
      "\n"
     ]
    }
   ],
   "source": [
    "prefixspan_df = sc.parallelize(all_prodlst).toDF()\n",
    "\n",
    "prefixspan_df.show()"
   ]
  },
  {
   "cell_type": "code",
   "execution_count": 52,
   "metadata": {},
   "outputs": [],
   "source": [
    "prefixSpan = PrefixSpan(minSupport=0.1, maxPatternLength=7,\n",
    "                        maxLocalProjDBSize=32000000)\n",
    "\n",
    "# Find frequent sequential patterns.\n",
    "frequent_aptterns = prefixSpan.findFrequentSequentialPatterns(prefixspan_df)"
   ]
  },
  {
   "cell_type": "code",
   "execution_count": 53,
   "metadata": {},
   "outputs": [
    {
     "name": "stdout",
     "output_type": "stream",
     "text": [
      "+---------+------+\n",
      "| sequence|  freq|\n",
      "+---------+------+\n",
      "|[[24852]]|490017|\n",
      "|[[13176]]|394028|\n",
      "+---------+------+\n",
      "\n"
     ]
    }
   ],
   "source": [
    "frequent_aptterns.show()"
   ]
  },
  {
   "cell_type": "markdown",
   "metadata": {},
   "source": [
    "#### Frequent Pattern with Product Aisle "
   ]
  },
  {
   "cell_type": "code",
   "execution_count": 54,
   "metadata": {},
   "outputs": [
    {
     "name": "stdout",
     "output_type": "stream",
     "text": [
      "3336195\n"
     ]
    },
    {
     "data": {
      "text/plain": [
       "[Row(sequence=[['buns rolls']]),\n",
       " Row(sequence=[['yogurt', 'packaged vegetables fruits', 'water seltzer sparkling water', 'oils vinegars', 'packaged cheese', 'bread', 'juice nectars', 'cookies cakes', 'soy lactosefree', 'granola', 'fresh vegetables', 'canned fruit applesauce']])]"
      ]
     },
     "execution_count": 54,
     "metadata": {},
     "output_type": "execute_result"
    }
   ],
   "source": [
    "all_aisleset = [Row(sequence=[aisle_set]) for aisle_set in order_aisleset_df['aisle_set'].values]\n",
    "print(len(all_aisleset))\n",
    "\n",
    "all_aisleset[7:9]"
   ]
  },
  {
   "cell_type": "code",
   "execution_count": 55,
   "metadata": {},
   "outputs": [
    {
     "name": "stdout",
     "output_type": "stream",
     "text": [
      "+--------------------+\n",
      "|            sequence|\n",
      "+--------------------+\n",
      "|[[other creams ch...|\n",
      "|[[spices seasonin...|\n",
      "|[[yogurt, package...|\n",
      "|[[cold flu allerg...|\n",
      "|[[paper goods, in...|\n",
      "|[[laundry, air fr...|\n",
      "|[[frozen produce,...|\n",
      "|      [[buns rolls]]|\n",
      "|[[yogurt, package...|\n",
      "|[[canned meals be...|\n",
      "|[[canned meals be...|\n",
      "|[[milk, frozen ap...|\n",
      "|[[other creams ch...|\n",
      "|[[milk, frozen br...|\n",
      "|[[oils vinegars, ...|\n",
      "|[[popcorn jerky, ...|\n",
      "|[[milk, paper goo...|\n",
      "|[[packaged vegeta...|\n",
      "|[[frozen breakfas...|\n",
      "|[[fresh fruits, t...|\n",
      "+--------------------+\n",
      "only showing top 20 rows\n",
      "\n"
     ]
    }
   ],
   "source": [
    "prefixspan_df = sc.parallelize(all_aisleset).toDF()\n",
    "\n",
    "prefixspan_df.show()"
   ]
  },
  {
   "cell_type": "code",
   "execution_count": null,
   "metadata": {},
   "outputs": [],
   "source": [
    "prefixSpan = PrefixSpan(minSupport=0.3, maxPatternLength=7,\n",
    "                        maxLocalProjDBSize=32000000)\n",
    "\n",
    "# Find frequent sequential patterns.\n",
    "frequent_aptterns = prefixSpan.findFrequentSequentialPatterns(prefixspan_df)\n",
    "frequent_aptterns.show()"
   ]
  },
  {
   "cell_type": "code",
   "execution_count": 58,
   "metadata": {},
   "outputs": [
    {
     "name": "stdout",
     "output_type": "stream",
     "text": [
      "+----------------------------------+-------+\n",
      "|sequence                          |freq   |\n",
      "+----------------------------------+-------+\n",
      "|[[fresh fruits]]                  |1857917|\n",
      "|[[packaged vegetables fruits]]    |1226107|\n",
      "|[[fresh vegetables]]              |1482470|\n",
      "|[[fresh fruits, fresh vegetables]]|1061493|\n",
      "+----------------------------------+-------+\n",
      "\n"
     ]
    }
   ],
   "source": [
    "frequent_aptterns.show(truncate=False)"
   ]
  },
  {
   "cell_type": "markdown",
   "metadata": {},
   "source": [
    "## Summary\n",
    "\n",
    "After trying both FP-growth and PrefixSPAN, the conclusions are the same:\n",
    "\n",
    "* Most frequent items are fresh vegetables together with fresh fruits, which is already common in grocery stores. Therefore the frequent mining results here are not very helpful.\n",
    "* The purpose of getting frequent itemsets was to calculate merchants' similarity scores. Obviously they are not a good option."
   ]
  }
 ],
 "metadata": {
  "kernelspec": {
   "display_name": "Python 3",
   "language": "python",
   "name": "python3"
  },
  "language_info": {
   "codemirror_mode": {
    "name": "ipython",
    "version": 3
   },
   "file_extension": ".py",
   "mimetype": "text/x-python",
   "name": "python",
   "nbconvert_exporter": "python",
   "pygments_lexer": "ipython3",
   "version": "3.7.6"
  }
 },
 "nbformat": 4,
 "nbformat_minor": 4
}
