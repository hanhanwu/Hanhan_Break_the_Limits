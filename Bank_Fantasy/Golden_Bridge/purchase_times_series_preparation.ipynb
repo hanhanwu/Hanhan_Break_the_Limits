{
 "cells": [
  {
   "cell_type": "markdown",
   "metadata": {},
   "source": [
    "# Purchase Time Series Preparation"
   ]
  },
  {
   "cell_type": "code",
   "execution_count": null,
   "metadata": {},
   "outputs": [],
   "source": [
    "import pandas as pd\n",
    "import numpy as np\n",
    "import matplotlib.pyplot as plt\n",
    "from pandas.plotting import autocorrelation_plot\n",
    "from statsmodels.tsa.stattools import kpss\n",
    "from statsmodels.tsa.stattools import adfuller"
   ]
  },
  {
   "cell_type": "markdown",
   "metadata": {},
   "source": [
    "## Prepare Sample Data\n",
    "\n",
    "* Find specific merchants, create training, testing"
   ]
  },
  {
   "cell_type": "code",
   "execution_count": 2,
   "metadata": {},
   "outputs": [
    {
     "name": "stdout",
     "output_type": "stream",
     "text": [
      "(5568, 4) 49\n"
     ]
    },
    {
     "data": {
      "text/html": [
       "<div>\n",
       "<style scoped>\n",
       "    .dataframe tbody tr th:only-of-type {\n",
       "        vertical-align: middle;\n",
       "    }\n",
       "\n",
       "    .dataframe tbody tr th {\n",
       "        vertical-align: top;\n",
       "    }\n",
       "\n",
       "    .dataframe thead th {\n",
       "        text-align: right;\n",
       "    }\n",
       "</style>\n",
       "<table border=\"1\" class=\"dataframe\">\n",
       "  <thead>\n",
       "    <tr style=\"text-align: right;\">\n",
       "      <th></th>\n",
       "      <th>merchant</th>\n",
       "      <th>purchase_date</th>\n",
       "      <th>purchase_amount</th>\n",
       "      <th>client_count</th>\n",
       "    </tr>\n",
       "  </thead>\n",
       "  <tbody>\n",
       "    <tr>\n",
       "      <th>0</th>\n",
       "      <td>49th Parallel Grocery</td>\n",
       "      <td>2019-02-11</td>\n",
       "      <td>58743.49</td>\n",
       "      <td>470</td>\n",
       "    </tr>\n",
       "    <tr>\n",
       "      <th>1</th>\n",
       "      <td>49th Parallel Grocery</td>\n",
       "      <td>2019-02-12</td>\n",
       "      <td>73984.82</td>\n",
       "      <td>686</td>\n",
       "    </tr>\n",
       "    <tr>\n",
       "      <th>2</th>\n",
       "      <td>49th Parallel Grocery</td>\n",
       "      <td>2019-02-13</td>\n",
       "      <td>95749.55</td>\n",
       "      <td>876</td>\n",
       "    </tr>\n",
       "    <tr>\n",
       "      <th>3</th>\n",
       "      <td>49th Parallel Grocery</td>\n",
       "      <td>2019-02-14</td>\n",
       "      <td>118723.62</td>\n",
       "      <td>1095</td>\n",
       "    </tr>\n",
       "    <tr>\n",
       "      <th>4</th>\n",
       "      <td>49th Parallel Grocery</td>\n",
       "      <td>2019-02-15</td>\n",
       "      <td>152350.76</td>\n",
       "      <td>1379</td>\n",
       "    </tr>\n",
       "  </tbody>\n",
       "</table>\n",
       "</div>"
      ],
      "text/plain": [
       "                merchant purchase_date  purchase_amount  client_count\n",
       "0  49th Parallel Grocery    2019-02-11         58743.49           470\n",
       "1  49th Parallel Grocery    2019-02-12         73984.82           686\n",
       "2  49th Parallel Grocery    2019-02-13         95749.55           876\n",
       "3  49th Parallel Grocery    2019-02-14        118723.62          1095\n",
       "4  49th Parallel Grocery    2019-02-15        152350.76          1379"
      ]
     },
     "execution_count": 2,
     "metadata": {},
     "output_type": "execute_result"
    }
   ],
   "source": [
    "ts_purchase_df = pd.read_pickle('ts_purchase.pkl')\n",
    "print(ts_purchase_df.shape, ts_purchase_df['merchant'].nunique())\n",
    "\n",
    "ts_purchase_df.head()"
   ]
  },
  {
   "cell_type": "code",
   "execution_count": 6,
   "metadata": {},
   "outputs": [
    {
     "name": "stdout",
     "output_type": "stream",
     "text": [
      "110 114\n"
     ]
    },
    {
     "data": {
      "text/html": [
       "<div>\n",
       "<style scoped>\n",
       "    .dataframe tbody tr th:only-of-type {\n",
       "        vertical-align: middle;\n",
       "    }\n",
       "\n",
       "    .dataframe tbody tr th {\n",
       "        vertical-align: top;\n",
       "    }\n",
       "\n",
       "    .dataframe thead th {\n",
       "        text-align: right;\n",
       "    }\n",
       "</style>\n",
       "<table border=\"1\" class=\"dataframe\">\n",
       "  <thead>\n",
       "    <tr style=\"text-align: right;\">\n",
       "      <th></th>\n",
       "      <th>merchant</th>\n",
       "      <th>count</th>\n",
       "    </tr>\n",
       "  </thead>\n",
       "  <tbody>\n",
       "    <tr>\n",
       "      <th>0</th>\n",
       "      <td>49th Parallel Grocery</td>\n",
       "      <td>114</td>\n",
       "    </tr>\n",
       "    <tr>\n",
       "      <th>21</th>\n",
       "      <td>Lalumière Bonanza</td>\n",
       "      <td>114</td>\n",
       "    </tr>\n",
       "    <tr>\n",
       "      <th>23</th>\n",
       "      <td>Le Marché Esposito</td>\n",
       "      <td>114</td>\n",
       "    </tr>\n",
       "    <tr>\n",
       "      <th>1</th>\n",
       "      <td>Asian Food Centre</td>\n",
       "      <td>114</td>\n",
       "    </tr>\n",
       "    <tr>\n",
       "      <th>25</th>\n",
       "      <td>Lococo's</td>\n",
       "      <td>114</td>\n",
       "    </tr>\n",
       "  </tbody>\n",
       "</table>\n",
       "</div>"
      ],
      "text/plain": [
       "                 merchant  count\n",
       "0   49th Parallel Grocery    114\n",
       "21      Lalumière Bonanza    114\n",
       "23     Le Marché Esposito    114\n",
       "1       Asian Food Centre    114\n",
       "25               Lococo's    114"
      ]
     },
     "execution_count": 6,
     "metadata": {},
     "output_type": "execute_result"
    }
   ],
   "source": [
    "agg_df = ts_purchase_df[['merchant', 'purchase_date']].astype('str').drop_duplicates()\\\n",
    "          .groupby(['merchant'], as_index=False)['purchase_date']\\\n",
    "          .agg(['count']).reset_index()\\\n",
    "          .sort_values(['count'], ascending=False)\n",
    "\n",
    "print(min(agg_df['count']), max(agg_df['count']))\n",
    "agg_df.head()"
   ]
  },
  {
   "cell_type": "markdown",
   "metadata": {},
   "source": [
    "Yeah, I assigned the purchase dates in uniformal distribution. This mean choose whatever merchant here is similar."
   ]
  },
  {
   "cell_type": "code",
   "execution_count": 20,
   "metadata": {},
   "outputs": [
    {
     "name": "stdout",
     "output_type": "stream",
     "text": [
      "(114, 4)\n"
     ]
    },
    {
     "data": {
      "text/html": [
       "<div>\n",
       "<style scoped>\n",
       "    .dataframe tbody tr th:only-of-type {\n",
       "        vertical-align: middle;\n",
       "    }\n",
       "\n",
       "    .dataframe tbody tr th {\n",
       "        vertical-align: top;\n",
       "    }\n",
       "\n",
       "    .dataframe thead th {\n",
       "        text-align: right;\n",
       "    }\n",
       "</style>\n",
       "<table border=\"1\" class=\"dataframe\">\n",
       "  <thead>\n",
       "    <tr style=\"text-align: right;\">\n",
       "      <th></th>\n",
       "      <th>merchant</th>\n",
       "      <th>purchase_date</th>\n",
       "      <th>purchase_amount</th>\n",
       "      <th>client_count</th>\n",
       "    </tr>\n",
       "  </thead>\n",
       "  <tbody>\n",
       "    <tr>\n",
       "      <th>0</th>\n",
       "      <td>49th Parallel Grocery</td>\n",
       "      <td>2019-02-11</td>\n",
       "      <td>58743.49</td>\n",
       "      <td>470</td>\n",
       "    </tr>\n",
       "    <tr>\n",
       "      <th>1</th>\n",
       "      <td>49th Parallel Grocery</td>\n",
       "      <td>2019-02-12</td>\n",
       "      <td>73984.82</td>\n",
       "      <td>686</td>\n",
       "    </tr>\n",
       "    <tr>\n",
       "      <th>2</th>\n",
       "      <td>49th Parallel Grocery</td>\n",
       "      <td>2019-02-13</td>\n",
       "      <td>95749.55</td>\n",
       "      <td>876</td>\n",
       "    </tr>\n",
       "    <tr>\n",
       "      <th>3</th>\n",
       "      <td>49th Parallel Grocery</td>\n",
       "      <td>2019-02-14</td>\n",
       "      <td>118723.62</td>\n",
       "      <td>1095</td>\n",
       "    </tr>\n",
       "    <tr>\n",
       "      <th>4</th>\n",
       "      <td>49th Parallel Grocery</td>\n",
       "      <td>2019-02-15</td>\n",
       "      <td>152350.76</td>\n",
       "      <td>1379</td>\n",
       "    </tr>\n",
       "  </tbody>\n",
       "</table>\n",
       "</div>"
      ],
      "text/plain": [
       "                merchant purchase_date  purchase_amount  client_count\n",
       "0  49th Parallel Grocery    2019-02-11         58743.49           470\n",
       "1  49th Parallel Grocery    2019-02-12         73984.82           686\n",
       "2  49th Parallel Grocery    2019-02-13         95749.55           876\n",
       "3  49th Parallel Grocery    2019-02-14        118723.62          1095\n",
       "4  49th Parallel Grocery    2019-02-15        152350.76          1379"
      ]
     },
     "execution_count": 20,
     "metadata": {},
     "output_type": "execute_result"
    }
   ],
   "source": [
    "sample_ts_df = ts_purchase_df.loc[ts_purchase_df['merchant']=='49th Parallel Grocery']\n",
    "print(sample_ts_df.shape)\n",
    "\n",
    "sample_ts_df.head()"
   ]
  },
  {
   "cell_type": "code",
   "execution_count": 23,
   "metadata": {},
   "outputs": [
    {
     "name": "stdout",
     "output_type": "stream",
     "text": [
      "merchant                   object\n",
      "purchase_date      datetime64[ns]\n",
      "purchase_amount           float64\n",
      "client_count                int64\n",
      "dtype: object\n"
     ]
    },
    {
     "data": {
      "text/html": [
       "<div>\n",
       "<style scoped>\n",
       "    .dataframe tbody tr th:only-of-type {\n",
       "        vertical-align: middle;\n",
       "    }\n",
       "\n",
       "    .dataframe tbody tr th {\n",
       "        vertical-align: top;\n",
       "    }\n",
       "\n",
       "    .dataframe thead th {\n",
       "        text-align: right;\n",
       "    }\n",
       "</style>\n",
       "<table border=\"1\" class=\"dataframe\">\n",
       "  <thead>\n",
       "    <tr style=\"text-align: right;\">\n",
       "      <th></th>\n",
       "      <th>merchant</th>\n",
       "      <th>purchase_date</th>\n",
       "      <th>purchase_amount</th>\n",
       "      <th>client_count</th>\n",
       "    </tr>\n",
       "  </thead>\n",
       "  <tbody>\n",
       "    <tr>\n",
       "      <th>0</th>\n",
       "      <td>49th Parallel Grocery</td>\n",
       "      <td>2019-02-11</td>\n",
       "      <td>58743.49</td>\n",
       "      <td>470</td>\n",
       "    </tr>\n",
       "    <tr>\n",
       "      <th>1</th>\n",
       "      <td>49th Parallel Grocery</td>\n",
       "      <td>2019-02-12</td>\n",
       "      <td>73984.82</td>\n",
       "      <td>686</td>\n",
       "    </tr>\n",
       "    <tr>\n",
       "      <th>2</th>\n",
       "      <td>49th Parallel Grocery</td>\n",
       "      <td>2019-02-13</td>\n",
       "      <td>95749.55</td>\n",
       "      <td>876</td>\n",
       "    </tr>\n",
       "    <tr>\n",
       "      <th>3</th>\n",
       "      <td>49th Parallel Grocery</td>\n",
       "      <td>2019-02-14</td>\n",
       "      <td>118723.62</td>\n",
       "      <td>1095</td>\n",
       "    </tr>\n",
       "    <tr>\n",
       "      <th>4</th>\n",
       "      <td>49th Parallel Grocery</td>\n",
       "      <td>2019-02-15</td>\n",
       "      <td>152350.76</td>\n",
       "      <td>1379</td>\n",
       "    </tr>\n",
       "  </tbody>\n",
       "</table>\n",
       "</div>"
      ],
      "text/plain": [
       "                merchant purchase_date  purchase_amount  client_count\n",
       "0  49th Parallel Grocery    2019-02-11         58743.49           470\n",
       "1  49th Parallel Grocery    2019-02-12         73984.82           686\n",
       "2  49th Parallel Grocery    2019-02-13         95749.55           876\n",
       "3  49th Parallel Grocery    2019-02-14        118723.62          1095\n",
       "4  49th Parallel Grocery    2019-02-15        152350.76          1379"
      ]
     },
     "execution_count": 23,
     "metadata": {},
     "output_type": "execute_result"
    }
   ],
   "source": [
    "import warnings\n",
    "warnings.filterwarnings(\"ignore\")\n",
    "\n",
    "sample_ts_df['purchase_date'] = sample_ts_df['purchase_date'].astype('datetime64[ns]')\n",
    "\n",
    "print(sample_ts_df.dtypes)\n",
    "sample_ts_df.head()"
   ]
  },
  {
   "cell_type": "code",
   "execution_count": 24,
   "metadata": {},
   "outputs": [
    {
     "name": "stdout",
     "output_type": "stream",
     "text": [
      "(100, 4) (14, 4)\n"
     ]
    }
   ],
   "source": [
    "sample_train_df = sample_ts_df.iloc[0:100, :]\n",
    "sample_test_df = sample_ts_df.iloc[100:, :]\n",
    "\n",
    "print(sample_train_df.shape, sample_test_df.shape)"
   ]
  },
  {
   "cell_type": "code",
   "execution_count": null,
   "metadata": {},
   "outputs": [],
   "source": []
  }
 ],
 "metadata": {
  "kernelspec": {
   "display_name": "Python 3",
   "language": "python",
   "name": "python3"
  },
  "language_info": {
   "codemirror_mode": {
    "name": "ipython",
    "version": 3
   },
   "file_extension": ".py",
   "mimetype": "text/x-python",
   "name": "python",
   "nbconvert_exporter": "python",
   "pygments_lexer": "ipython3",
   "version": "3.7.6"
  }
 },
 "nbformat": 4,
 "nbformat_minor": 4
}
