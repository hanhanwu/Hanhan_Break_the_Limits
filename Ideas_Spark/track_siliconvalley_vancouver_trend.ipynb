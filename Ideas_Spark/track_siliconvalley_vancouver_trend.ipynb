{
 "cells": [
  {
   "cell_type": "code",
   "execution_count": 10,
   "metadata": {},
   "outputs": [],
   "source": [
    "from selenium import webdriver\n",
    "from selenium.webdriver.firefox.options import Options\n",
    "from selenium.webdriver.common.desired_capabilities import DesiredCapabilities\n",
    "import time\n",
    "\n",
    "cap = DesiredCapabilities().FIREFOX\n",
    "cap[\"marionette\"] = False"
   ]
  },
  {
   "cell_type": "markdown",
   "metadata": {},
   "source": [
    "## NOTES\n",
    "\n",
    "* Download latest geckodriver: https://github.com/mozilla/geckodriver/releases/tag/v0.24.0\n",
    "* Unzip it and put geckodriver under python.exe location\n",
    "  * Win button, then type \"python.exe\", right click and choose \"find file location\""
   ]
  },
  {
   "cell_type": "code",
   "execution_count": 20,
   "metadata": {},
   "outputs": [],
   "source": [
    "binary = r'C:\\Program Files\\Mozilla Firefox\\firefox.exe'\n",
    "options = Options()\n",
    "options.headless = True\n",
    "options.binary = binary\n",
    "cap = DesiredCapabilities().FIREFOX\n",
    "cap[\"marionette\"] = True #optional\n",
    "driver = webdriver.Firefox(options=options, capabilities=cap)"
   ]
  },
  {
   "cell_type": "code",
   "execution_count": 28,
   "metadata": {},
   "outputs": [],
   "source": [
    "def get_company_dct(driver, url_pre, pages):\n",
    "    company_dct = {}\n",
    "    \n",
    "    for i in range(pages):\n",
    "        url = url_pre + str(i*10)\n",
    "        driver.get(url)\n",
    "        time.sleep(3)\n",
    "        \n",
    "        company_lst = driver.find_elements_by_class_name('company')\n",
    "        title_lst = driver.find_elements_by_class_name('title')\n",
    "        \n",
    "        for j in range(len(company_lst)):\n",
    "            company = company_lst[j].text\n",
    "            title = title_lst[j].text\n",
    "            company_dct.setdefault(company, {})\n",
    "            company_dct[company].setdefault(title, 0)\n",
    "            company_dct[company][title] += 1\n",
    "            \n",
    "    return company_dct\n",
    "\n",
    "\n",
    "def dct2df()"
   ]
  },
  {
   "cell_type": "code",
   "execution_count": 29,
   "metadata": {},
   "outputs": [],
   "source": [
    "sv_url_pre = \"https://www.indeed.com/jobs?q=Data%20Scientist&l=San%20Francisco%2C%20CA&start=\"\n",
    "sv_company_dct = get_company_dct(driver, sv_url_pre, pages=7)"
   ]
  },
  {
   "cell_type": "code",
   "execution_count": 30,
   "metadata": {},
   "outputs": [
    {
     "data": {
      "text/plain": [
       "{'Debtsy': {'Data Scientist (SF)': 1},\n",
       " 'openwater (openwater.cc)': {'Modeling and Data Analyst Scientist': 2},\n",
       " 'GraphWear Technologies Inc.': {'Signal processing and data scientist': 7},\n",
       " 'Blue Owl': {'Data Scientist - Insurance': 4, 'Senior Data Analyst': 6},\n",
       " 'Indeed Prime': {'Machine Learning Engineer': 2},\n",
       " 'Jobot': {'Data Scientist': 2},\n",
       " 'University of California San Francisco': {'Data Scientist': 1},\n",
       " 'Cisco Careers': {'AppD Data Scientist (4318)': 1},\n",
       " 'Ubisoft': {'Junior Data Scientist - VIE San Francisco': 1},\n",
       " 'AI Customized Systems, Inc': {'Chief Data Scientist': 6},\n",
       " 'Publicis Spine': {'Data Scientist': 1},\n",
       " 'Cloud Agronomics Inc.': {'Data Scientist / Machine Learning Engineer': 1},\n",
       " 'Alt Shift USA': {'Data Scientist': 1},\n",
       " 'Spin Electric Scooters': {'Data Scientist': 1},\n",
       " 'TheMathCompany': {'Associate - Data Scientist - US Region': 1},\n",
       " 'Opendoor': {'Data Scientist (Predictive Services)': 1,\n",
       "  'Data Scientist (Analytics)': 1},\n",
       " 'True Botanicals, Inc': {'Data Scientist': 1},\n",
       " 'ClassDojo': {'Data Scientist': 1},\n",
       " 'Mode': {'Data Scientist': 1},\n",
       " 'Clarify Health Solutions.': {'Data Scientist': 1},\n",
       " 'Curology': {'Data Scientist': 1},\n",
       " 'SoFi': {'Data Scientist, Product': 1},\n",
       " 'FiveBy': {'Applied Data Scientist': 1},\n",
       " 'UST Global': {'Data Scientist': 1},\n",
       " 'RiskIQ': {'Data Scientist': 1},\n",
       " 'Astound.ai': {'Field Data Scientist for Machine Learning': 2},\n",
       " 'Clarivate Analytics': {'Data Scientist (User Data)': 1, 'Data Scientist': 1},\n",
       " 'Bold Metrics': {'Data Scientist': 1},\n",
       " 'LexisNexis': {'Data Scientist I': 1},\n",
       " 'King.com': {'Data Scientist': 1},\n",
       " 'Revolut': {'Data Scientist (FinCrime)': 1},\n",
       " 'Walmart eCommerce': {'Data Scientist (Anti-Fraud Team)': 1,\n",
       "  'Data Scientist (Advertising Personalization Team)': 1,\n",
       "  'Data Scientist (Search Science Team)': 1,\n",
       "  'Data Scientist (Smart Pricing Team)': 1,\n",
       "  'Data Scientist (Voice Commerce Team)': 1},\n",
       " 'Google': {'Data Scientist, Ads Marketing': 1,\n",
       "  'Data Scientist, Engineering': 1},\n",
       " 'Samba TV': {'Data Scientist': 1},\n",
       " 'Finrise': {'Data Scientist': 1},\n",
       " 'eBay Inc.': {'Staff Data Scientist': 3},\n",
       " 'Bolt': {'Data Scientist': 1},\n",
       " 'Scoop Technologies': {'Data Scientist': 1},\n",
       " 'Oracle': {'Data Scientist (Multiple levels)': 1},\n",
       " 'Zeus Living': {'Product Data Scientist': 1},\n",
       " 'Coinbase': {'Data Scientist': 1},\n",
       " 'Brightidea': {'Data Scientist': 1},\n",
       " 'BICP': {'Data Scientist': 1},\n",
       " 'Second Genome': {'Data Scientist': 1},\n",
       " 'The RealReal': {'Data Scientist, Pricing & Reinforcement Learning': 1},\n",
       " 'Square': {'Data Scientist, Payments': 1, 'Data Scientist, Capital': 1},\n",
       " 'Aurora': {'Data Scientist': 1},\n",
       " 'Sentient Energy Inc.': {'Data Scientist - Grid Analytics': 1},\n",
       " 'Tretar': {'Data Science Fellow': 1},\n",
       " 'Ironclad, Inc.': {'Machine Learning Data Scientist/Engineer': 1},\n",
       " 'Dote Shopping': {'data scientist': 1},\n",
       " 'Alley Recruits': {'Data Scientist/Search Engineer': 1},\n",
       " 'CyberCube Analytics': {'Director, Data Science': 1},\n",
       " 'Unlearn.AI': {'Data Scientist': 1},\n",
       " 'Uber': {'Data Scientist - Legal Data': 1},\n",
       " 'Zeus': {'Product Data Scientist': 1},\n",
       " 'Eventbrite': {'Data Scientist - Risk & Detection': 1},\n",
       " 'Scaleapi': {'Data Scientist': 1},\n",
       " 'Skillz Inc.': {'Data Scientist': 1},\n",
       " 'Branch International': {'Data Scientist': 1},\n",
       " 'Calm': {'Data Scientist, Analytics': 1},\n",
       " 'Pathrise': {'Partner, Data Science': 1},\n",
       " 'MasterClass': {'Data Scientist': 2},\n",
       " 'Prosper': {'Senior Manager, Marketing Data Science': 2},\n",
       " 'Yelp': {'Applied Data Scientist': 1},\n",
       " 'Jyve': {'Data Scientist': 1},\n",
       " 'CipherTrace': {'Data Scientist': 1},\n",
       " 'Tempus': {'Data Scientist, Applied Machine Learning - Bay Area': 1},\n",
       " '6sense': {'Data Scientist': 1},\n",
       " 'Personal Capital': {'Data Scientist': 1}}"
      ]
     },
     "execution_count": 30,
     "metadata": {},
     "output_type": "execute_result"
    }
   ],
   "source": [
    "sv_company_dct"
   ]
  },
  {
   "cell_type": "code",
   "execution_count": 32,
   "metadata": {},
   "outputs": [],
   "source": [
    "vancouver_url_pre = \"https://ca.indeed.com/jobs?q=Data+Scientist&l=Vancouver,+BC&start=\"\n",
    "vancouver_company_dct = get_company_dct(driver, vancouver_url_pre, pages=7)"
   ]
  },
  {
   "cell_type": "code",
   "execution_count": 33,
   "metadata": {},
   "outputs": [
    {
     "data": {
      "text/plain": [
       "{'Ecofish Research Ltd.': {'Senior Fisheries Scientist': 7},\n",
       " 'SkyHive Technologies Inc.': {'Machine Learning Engineer': 5},\n",
       " 'Zenabis': {'Corporate Controller': 4},\n",
       " 'Annex Consulting Group': {'Data Scientist/Machine Learning Developer': 3},\n",
       " 'CARO Analytical Services': {'Laboratory Analyst (Food Residue) - Burnaby, BC': 3,\n",
       "  'Inorganics Team Lead': 7},\n",
       " 'SkyHive': {'Machine Learning Engineer / Data Scientist': 1},\n",
       " 'NumerixS Quant': {'Data Scientist and Analyst': 1},\n",
       " 'Clio': {'Data Scientist': 1},\n",
       " 'BC Maritime Employers Association': {'Data Scientist': 1},\n",
       " 'AMZN CAN Fulfillment Svcs, ULC': {'Data Scientist, Alexa Smart Home SLU': 1,\n",
       "  'Data Scientist, Capacity Forecasting': 1,\n",
       "  'Applied Scientist': 1,\n",
       "  'Research Scientist': 1,\n",
       "  'Machine Learning Scientist, Recruiting Technology': 1,\n",
       "  'Data Analyst, Tax Calculation Services': 1},\n",
       " 'The Economical Insurance Group': {'Data Scientist': 1},\n",
       " 'REHUMAN': {'Data Scientist': 1},\n",
       " 'Kabam': {'Associate Data Scientist': 1, 'Project Manager (Data Team)': 1},\n",
       " 'Awakedata': {'Data Scientist': 1},\n",
       " 'Zenith System Solutions Inc.': {'Data Scientist / Senior Data Analyst - ADC Data': 1},\n",
       " 'Genome Canada Transplant Consortium': {'Data Scientists and Statisticians': 7},\n",
       " 'BrainStation': {'Data Scientist': 1},\n",
       " 'Evilnut Creative Technology': {'Database Scientist': 1},\n",
       " 'FPInnovations': {'Data Scientist - Big Data & Analytics ( contract: 6 months)': 1,\n",
       "  'Wood Machining Scientist': 1},\n",
       " 'Change Healthcare': {'Data Scientist, Medical Imaging; Canada': 1},\n",
       " 'Asana': {'Lead Data Scientist': 1},\n",
       " 'Canadian Construction Materials Engineering & Test...': {'Environmental Scientist/Technician': 1},\n",
       " 'Fortify Enterprise Inc.': {'Big Data Scientist': 1},\n",
       " 'Dialpad': {'Data Science & Analytics Manager': 1, 'Senior Data Analyst': 1},\n",
       " 'Ballard Power Systems Inc.': {'Research Scientist/Engineer': 1,\n",
       "  'New Grad Engineers/Scientists': 1},\n",
       " 'Zymeworks Inc': {'Scientist, Molecular Simulations': 1,\n",
       "  'Patent Scientist': 1,\n",
       "  'Research Associate II, Antibody Generation': 1,\n",
       "  'Associate Scientist, Bioinformatics': 1},\n",
       " 'Workday': {'Senior / Principal Data Scientist': 1},\n",
       " 'Hothead Games': {'Data Engineer': 1},\n",
       " 'AbCellera Biologics': {'Scientist - Antibody Production & Characterization': 1,\n",
       "  'Scientist - Cell Culture and Screening': 1,\n",
       "  'Bioinformatician': 1},\n",
       " 'Bureau Veritas Laboratories': {'Scientist': 1},\n",
       " 'Acuitas': {'Associate Research Scientist/Research Scientist - Formulatio...': 1,\n",
       "  'Associate Scientist/Scientist - Preclinical': 1},\n",
       " 'MasterCard': {'Director - Lead Data scientist, R&D – Device/ IoT Innovation...': 1,\n",
       "  'Cloud Data Architect': 1},\n",
       " 'AppleSox': {'Data Scientist': 1},\n",
       " 'STEMCELL Technologies': {'Scientist, Pulmonary': 1,\n",
       "  'Senior Process Development Scientist, Nanoparticles': 1,\n",
       "  'Data Engineer': 1,\n",
       "  'Scientist, Matrix Biology': 1,\n",
       "  'Scientist, Contract Assay Services': 1,\n",
       "  'Process Development Scientist, Media Products': 1,\n",
       "  'Scientist, Human Immunology': 1,\n",
       "  'Quality Control Analyst': 1,\n",
       "  'Process Development Scientist, Biologics': 1,\n",
       "  'Research Associate, Human Immunology': 1},\n",
       " 'Electronic Arts': {'Data Engineer': 1},\n",
       " 'Genevant': {'Sr./Scientist, Pharmaceutical Development': 1},\n",
       " 'SkyHive Technologies': {'Machine Learning Engineer': 1},\n",
       " 'Unbounce': {'Data Engineer- Python Developer': 1},\n",
       " 'Contextual Genomics': {'Computational Scientist: Machine Learning in Image Analysis': 1},\n",
       " 'Terramera': {'Research Associate, Nematology': 1},\n",
       " 'Motion Metrics International Corp.': {'Machine Learning Developer': 3},\n",
       " 'Wix': {'Machine Learning Algorithms Engineer - DeviantArt': 1},\n",
       " 'PHSA': {'Staff Scientist I - BC Cancer Research Centre Vancouver': 1},\n",
       " 'University of British Columbia': {'Research Asst/Tech 4': 1},\n",
       " 'Amazon Web Services Canada, In': {'Sr. Data Engineer, Machine Learning': 1},\n",
       " 'Xenon Pharmaceuticals Inc.': {'Research Scientist, In Vitro Biology': 1},\n",
       " 'Xenon Inc': {'Research Scientist, In Vitro Biology': 1},\n",
       " 'Medipure Pharmaceutials': {'Polymer Chemist': 1},\n",
       " 'Genome Sciences Centre, BC Cancer': {'Projects Coordinator': 1},\n",
       " 'Electra Meccanica': {'Battery Engineer': 1}}"
      ]
     },
     "execution_count": 33,
     "metadata": {},
     "output_type": "execute_result"
    }
   ],
   "source": [
    "vancouver_company_dct"
   ]
  },
  {
   "cell_type": "code",
   "execution_count": null,
   "metadata": {},
   "outputs": [],
   "source": [
    "driver.close()"
   ]
  }
 ],
 "metadata": {
  "kernelspec": {
   "display_name": "Python 3",
   "language": "python",
   "name": "python3"
  },
  "language_info": {
   "codemirror_mode": {
    "name": "ipython",
    "version": 3
   },
   "file_extension": ".py",
   "mimetype": "text/x-python",
   "name": "python",
   "nbconvert_exporter": "python",
   "pygments_lexer": "ipython3",
   "version": "3.6.5"
  }
 },
 "nbformat": 4,
 "nbformat_minor": 2
}
