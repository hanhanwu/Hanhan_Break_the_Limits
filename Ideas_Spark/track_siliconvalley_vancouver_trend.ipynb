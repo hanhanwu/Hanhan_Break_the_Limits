{
 "cells": [
  {
   "cell_type": "code",
   "execution_count": 38,
   "metadata": {},
   "outputs": [],
   "source": [
    "from selenium import webdriver\n",
    "from selenium.webdriver.firefox.options import Options\n",
    "from selenium.webdriver.common.desired_capabilities import DesiredCapabilities\n",
    "import time\n",
    "import pandas as pd\n",
    "\n",
    "cap = DesiredCapabilities().FIREFOX\n",
    "cap[\"marionette\"] = False"
   ]
  },
  {
   "cell_type": "markdown",
   "metadata": {},
   "source": [
    "## NOTES\n",
    "\n",
    "* Download latest geckodriver: https://github.com/mozilla/geckodriver/releases/tag/v0.24.0\n",
    "* Unzip it and put geckodriver under python.exe location\n",
    "  * Win button, then type \"python.exe\", right click and choose \"find file location\""
   ]
  },
  {
   "cell_type": "code",
   "execution_count": 45,
   "metadata": {},
   "outputs": [],
   "source": [
    "binary = r'C:\\Program Files\\Mozilla Firefox\\firefox.exe'\n",
    "options = Options()\n",
    "options.headless = True\n",
    "options.binary = binary\n",
    "cap = DesiredCapabilities().FIREFOX\n",
    "cap[\"marionette\"] = True #optional\n",
    "driver = webdriver.Firefox(options=options, capabilities=cap)"
   ]
  },
  {
   "cell_type": "code",
   "execution_count": 46,
   "metadata": {},
   "outputs": [],
   "source": [
    "def get_company_dct(driver, url_pre, pages):\n",
    "    company_dct = {}\n",
    "    \n",
    "    for i in range(pages):\n",
    "        url = url_pre + str(i*10)\n",
    "        driver.get(url)\n",
    "        time.sleep(3)\n",
    "        \n",
    "        company_lst = driver.find_elements_by_class_name('company')\n",
    "        title_lst = driver.find_elements_by_class_name('title')\n",
    "        \n",
    "        for j in range(len(company_lst)):\n",
    "            company = company_lst[j].text\n",
    "            title = title_lst[j].text\n",
    "            company_dct.setdefault(company, {})\n",
    "            company_dct[company].setdefault(title, 0)\n",
    "            company_dct[company][title] += 1\n",
    "            \n",
    "    return company_dct\n",
    "\n",
    "\n",
    "def dct2df(dct):\n",
    "    final_dct = {}\n",
    "    idx = 0\n",
    "    \n",
    "    for company, title_dct in dct.items():\n",
    "        for title, ct in title_dct.items():\n",
    "            final_dct[idx] = {'Company':company, 'Title': title, 'Count': ct}\n",
    "            idx += 1\n",
    "    df = pd.DataFrame(final_dct).T\n",
    "    return df"
   ]
  },
  {
   "cell_type": "code",
   "execution_count": 47,
   "metadata": {},
   "outputs": [],
   "source": [
    "sv_url_pre = \"https://www.indeed.com/jobs?q=Data%20Scientist&l=San%20Francisco%2C%20CA&start=\"\n",
    "sv_company_dct = get_company_dct(driver, sv_url_pre, pages=20)"
   ]
  },
  {
   "cell_type": "code",
   "execution_count": 48,
   "metadata": {},
   "outputs": [
    {
     "data": {
      "text/html": [
       "<div>\n",
       "<style scoped>\n",
       "    .dataframe tbody tr th:only-of-type {\n",
       "        vertical-align: middle;\n",
       "    }\n",
       "\n",
       "    .dataframe tbody tr th {\n",
       "        vertical-align: top;\n",
       "    }\n",
       "\n",
       "    .dataframe thead th {\n",
       "        text-align: right;\n",
       "    }\n",
       "</style>\n",
       "<table border=\"1\" class=\"dataframe\">\n",
       "  <thead>\n",
       "    <tr style=\"text-align: right;\">\n",
       "      <th></th>\n",
       "      <th>Company</th>\n",
       "      <th>Count</th>\n",
       "      <th>Title</th>\n",
       "    </tr>\n",
       "  </thead>\n",
       "  <tbody>\n",
       "    <tr>\n",
       "      <th>0</th>\n",
       "      <td>AI Customized Systems, Inc</td>\n",
       "      <td>14</td>\n",
       "      <td>Chief Data Scientist</td>\n",
       "    </tr>\n",
       "    <tr>\n",
       "      <th>1</th>\n",
       "      <td>Stealth Mode Startup</td>\n",
       "      <td>19</td>\n",
       "      <td>Data Analyst</td>\n",
       "    </tr>\n",
       "    <tr>\n",
       "      <th>2</th>\n",
       "      <td>openwater (openwater.cc)</td>\n",
       "      <td>16</td>\n",
       "      <td>Modeling and Data Analyst Scientist</td>\n",
       "    </tr>\n",
       "    <tr>\n",
       "      <th>3</th>\n",
       "      <td>Everlaw</td>\n",
       "      <td>19</td>\n",
       "      <td>Data Operations Associate</td>\n",
       "    </tr>\n",
       "    <tr>\n",
       "      <th>4</th>\n",
       "      <td>Astound.ai</td>\n",
       "      <td>4</td>\n",
       "      <td>Field Data Scientist for Machine Learning</td>\n",
       "    </tr>\n",
       "  </tbody>\n",
       "</table>\n",
       "</div>"
      ],
      "text/plain": [
       "                      Company Count                                      Title\n",
       "0  AI Customized Systems, Inc    14                       Chief Data Scientist\n",
       "1        Stealth Mode Startup    19                               Data Analyst\n",
       "2    openwater (openwater.cc)    16        Modeling and Data Analyst Scientist\n",
       "3                     Everlaw    19                  Data Operations Associate\n",
       "4                  Astound.ai     4  Field Data Scientist for Machine Learning"
      ]
     },
     "execution_count": 48,
     "metadata": {},
     "output_type": "execute_result"
    }
   ],
   "source": [
    "sv_company_df = dct2df(sv_company_dct)\n",
    "sv_company_df.head()"
   ]
  },
  {
   "cell_type": "code",
   "execution_count": 49,
   "metadata": {},
   "outputs": [],
   "source": [
    "vancouver_url_pre = \"https://ca.indeed.com/jobs?q=Data+Scientist&l=Vancouver,+BC&start=\"\n",
    "vancouver_company_dct = get_company_dct(driver, vancouver_url_pre, pages=7)"
   ]
  },
  {
   "cell_type": "code",
   "execution_count": 50,
   "metadata": {},
   "outputs": [
    {
     "data": {
      "text/html": [
       "<div>\n",
       "<style scoped>\n",
       "    .dataframe tbody tr th:only-of-type {\n",
       "        vertical-align: middle;\n",
       "    }\n",
       "\n",
       "    .dataframe tbody tr th {\n",
       "        vertical-align: top;\n",
       "    }\n",
       "\n",
       "    .dataframe thead th {\n",
       "        text-align: right;\n",
       "    }\n",
       "</style>\n",
       "<table border=\"1\" class=\"dataframe\">\n",
       "  <thead>\n",
       "    <tr style=\"text-align: right;\">\n",
       "      <th></th>\n",
       "      <th>Company</th>\n",
       "      <th>Count</th>\n",
       "      <th>Title</th>\n",
       "    </tr>\n",
       "  </thead>\n",
       "  <tbody>\n",
       "    <tr>\n",
       "      <th>0</th>\n",
       "      <td>AppleSox</td>\n",
       "      <td>7</td>\n",
       "      <td>Data Scientist</td>\n",
       "    </tr>\n",
       "    <tr>\n",
       "      <th>1</th>\n",
       "      <td>Genome Canada Transplant Consortium</td>\n",
       "      <td>4</td>\n",
       "      <td>Data Scientists and Statisticians</td>\n",
       "    </tr>\n",
       "    <tr>\n",
       "      <th>2</th>\n",
       "      <td>Motion Metrics International Corp.</td>\n",
       "      <td>7</td>\n",
       "      <td>Machine Learning Developer</td>\n",
       "    </tr>\n",
       "    <tr>\n",
       "      <th>3</th>\n",
       "      <td>Ecofish Research Ltd.</td>\n",
       "      <td>7</td>\n",
       "      <td>Senior Fisheries Scientist</td>\n",
       "    </tr>\n",
       "    <tr>\n",
       "      <th>4</th>\n",
       "      <td>CARO Analytical Services</td>\n",
       "      <td>3</td>\n",
       "      <td>Inorganics Team Lead</td>\n",
       "    </tr>\n",
       "  </tbody>\n",
       "</table>\n",
       "</div>"
      ],
      "text/plain": [
       "                               Company Count  \\\n",
       "0                             AppleSox     7   \n",
       "1  Genome Canada Transplant Consortium     4   \n",
       "2   Motion Metrics International Corp.     7   \n",
       "3                Ecofish Research Ltd.     7   \n",
       "4             CARO Analytical Services     3   \n",
       "\n",
       "                               Title  \n",
       "0                     Data Scientist  \n",
       "1  Data Scientists and Statisticians  \n",
       "2         Machine Learning Developer  \n",
       "3         Senior Fisheries Scientist  \n",
       "4               Inorganics Team Lead  "
      ]
     },
     "execution_count": 50,
     "metadata": {},
     "output_type": "execute_result"
    }
   ],
   "source": [
    "vancouver_company_df = dct2df(vancouver_company_dct)\n",
    "vancouver_company_df.head()"
   ]
  },
  {
   "cell_type": "code",
   "execution_count": 51,
   "metadata": {},
   "outputs": [
    {
     "data": {
      "text/html": [
       "<div>\n",
       "<style scoped>\n",
       "    .dataframe tbody tr th:only-of-type {\n",
       "        vertical-align: middle;\n",
       "    }\n",
       "\n",
       "    .dataframe tbody tr th {\n",
       "        vertical-align: top;\n",
       "    }\n",
       "\n",
       "    .dataframe thead th {\n",
       "        text-align: right;\n",
       "    }\n",
       "</style>\n",
       "<table border=\"1\" class=\"dataframe\">\n",
       "  <thead>\n",
       "    <tr style=\"text-align: right;\">\n",
       "      <th></th>\n",
       "      <th>Company</th>\n",
       "      <th>Count_x</th>\n",
       "      <th>Title_x</th>\n",
       "      <th>Count_y</th>\n",
       "      <th>Title_y</th>\n",
       "    </tr>\n",
       "  </thead>\n",
       "  <tbody>\n",
       "    <tr>\n",
       "      <th>0</th>\n",
       "      <td>Electronic Arts</td>\n",
       "      <td>1</td>\n",
       "      <td>Data Engineer</td>\n",
       "      <td>1</td>\n",
       "      <td>Data Scientist</td>\n",
       "    </tr>\n",
       "    <tr>\n",
       "      <th>1</th>\n",
       "      <td>Electronic Arts</td>\n",
       "      <td>1</td>\n",
       "      <td>Data Engineer</td>\n",
       "      <td>1</td>\n",
       "      <td>Principal Data Scientist</td>\n",
       "    </tr>\n",
       "    <tr>\n",
       "      <th>2</th>\n",
       "      <td>Electronic Arts</td>\n",
       "      <td>1</td>\n",
       "      <td>Data Engineer</td>\n",
       "      <td>1</td>\n",
       "      <td>Research Data Scientist</td>\n",
       "    </tr>\n",
       "  </tbody>\n",
       "</table>\n",
       "</div>"
      ],
      "text/plain": [
       "           Company Count_x        Title_x Count_y                   Title_y\n",
       "0  Electronic Arts       1  Data Engineer       1            Data Scientist\n",
       "1  Electronic Arts       1  Data Engineer       1  Principal Data Scientist\n",
       "2  Electronic Arts       1  Data Engineer       1   Research Data Scientist"
      ]
     },
     "execution_count": 51,
     "metadata": {},
     "output_type": "execute_result"
    }
   ],
   "source": [
    "common_trend = vancouver_company_df.merge(sv_company_df, on='Company')\n",
    "common_trend"
   ]
  },
  {
   "cell_type": "code",
   "execution_count": 52,
   "metadata": {},
   "outputs": [],
   "source": [
    "driver.close()"
   ]
  }
 ],
 "metadata": {
  "kernelspec": {
   "display_name": "Python 3",
   "language": "python",
   "name": "python3"
  },
  "language_info": {
   "codemirror_mode": {
    "name": "ipython",
    "version": 3
   },
   "file_extension": ".py",
   "mimetype": "text/x-python",
   "name": "python",
   "nbconvert_exporter": "python",
   "pygments_lexer": "ipython3",
   "version": "3.6.5"
  }
 },
 "nbformat": 4,
 "nbformat_minor": 2
}
